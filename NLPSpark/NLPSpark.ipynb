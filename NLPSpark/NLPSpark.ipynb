{
 "cells": [
  {
   "cell_type": "markdown",
   "metadata": {
    "application/vnd.databricks.v1+cell": {
     "cellMetadata": {},
     "inputWidgets": {},
     "nuid": "48f781c0-292a-4765-ae12-bdc522788c4b",
     "showTitle": false,
     "tableResultSettingsMap": {},
     "title": ""
    }
   },
   "source": [
    "# Modelo de ML com Spark\n",
    "\n",
    "Este notebook foi desenvolvido no **Databricks** e tem como objetivo demonstrar, passo a passo, como identificar e-mails classificados como *spam* ou *não spam* utilizando técnicas de **Processamento de Linguagem Natural (NLP)** e **Machine Learning**, aplicadas em um ambiente distribuído com **Apache Spark**.\n",
    "\n",
    "## Preparando o Ambiente e Carregando a Tabela de Spam"
   ]
  },
  {
   "cell_type": "code",
   "execution_count": null,
   "metadata": {
    "application/vnd.databricks.v1+cell": {
     "cellMetadata": {
      "byteLimit": 2048000,
      "rowLimit": 10000
     },
     "inputWidgets": {},
     "nuid": "628b3ca0-9f6b-4b6b-87e8-49dbf0bd05ff",
     "showTitle": false,
     "tableResultSettingsMap": {},
     "title": ""
    }
   },
   "outputs": [],
   "source": [
    "from pyspark.sql import SparkSession\n",
    "from pyspark.ml.classification import RandomForestClassifier\n",
    "from pyspark.ml.feature import Tokenizer, StringIndexer, Word2Vec\n",
    "from pyspark.ml.evaluation import BinaryClassificationEvaluator\n",
    "\n",
    "spark = SparkSession.builder.appName(\"nlp\").getOrCreate()"
   ]
  },
  {
   "cell_type": "code",
   "execution_count": null,
   "metadata": {
    "application/vnd.databricks.v1+cell": {
     "cellMetadata": {
      "byteLimit": 2048000,
      "rowLimit": 10000
     },
     "inputWidgets": {},
     "nuid": "fbf27a71-0ea6-4124-8546-617f3195cf34",
     "showTitle": false,
     "tableResultSettingsMap": {},
     "title": ""
    }
   },
   "outputs": [],
   "source": [
    "# Importando a tabela\n",
    "spam = spark.sql(\"select * from spam_ham_dataset_csv\")"
   ]
  },
  {
   "cell_type": "code",
   "execution_count": null,
   "metadata": {
    "application/vnd.databricks.v1+cell": {
     "cellMetadata": {
      "byteLimit": 2048000,
      "rowLimit": 10000
     },
     "inputWidgets": {},
     "nuid": "147112b1-482e-4e00-abb7-43ff3035dcad",
     "showTitle": false,
     "tableResultSettingsMap": {},
     "title": ""
    }
   },
   "outputs": [
    {
     "name": "stdout",
     "output_type": "stream",
     "text": [
      "+-----+--------------------+\n",
      "|label|                text|\n",
      "+-----+--------------------+\n",
      "|  ham|Subject: enron me...|\n",
      "|  ham|Subject: hpl nom ...|\n",
      "|  ham|Subject: neon ret...|\n",
      "| spam|Subject: photosho...|\n",
      "|  ham|Subject: re : ind...|\n",
      "+-----+--------------------+\n",
      "only showing top 5 rows\n",
      "\n"
     ]
    }
   ],
   "source": [
    "# Verificando o formato\n",
    "spam.show(5)"
   ]
  },
  {
   "cell_type": "markdown",
   "metadata": {
    "application/vnd.databricks.v1+cell": {
     "cellMetadata": {},
     "inputWidgets": {},
     "nuid": "f5610f6d-71f4-4519-950d-cea494fcc031",
     "showTitle": false,
     "tableResultSettingsMap": {},
     "title": ""
    }
   },
   "source": [
    "## Tratamento de Dados"
   ]
  },
  {
   "cell_type": "code",
   "execution_count": null,
   "metadata": {
    "application/vnd.databricks.v1+cell": {
     "cellMetadata": {
      "byteLimit": 2048000,
      "rowLimit": 10000
     },
     "inputWidgets": {},
     "nuid": "c9693567-199c-485f-8f53-f2476ae333bb",
     "showTitle": false,
     "tableResultSettingsMap": {},
     "title": ""
    }
   },
   "outputs": [
    {
     "name": "stdout",
     "output_type": "stream",
     "text": [
      "+-----+--------------------+---------+\n",
      "|label|                text|label_num|\n",
      "+-----+--------------------+---------+\n",
      "|  ham|Subject: enron me...|      0.0|\n",
      "|  ham|Subject: hpl nom ...|      0.0|\n",
      "|  ham|Subject: neon ret...|      0.0|\n",
      "| spam|Subject: photosho...|      1.0|\n",
      "|  ham|Subject: re : ind...|      0.0|\n",
      "+-----+--------------------+---------+\n",
      "only showing top 5 rows\n",
      "\n"
     ]
    }
   ],
   "source": [
    "# transformação do label em número\n",
    "stringmodel = StringIndexer(inputCol=\"label\",outputCol=\"label_num\")\n",
    "spam = stringmodel.fit(spam).transform(spam)\n",
    "spam.show(5)"
   ]
  },
  {
   "cell_type": "code",
   "execution_count": null,
   "metadata": {
    "application/vnd.databricks.v1+cell": {
     "cellMetadata": {
      "byteLimit": 2048000,
      "rowLimit": 10000
     },
     "inputWidgets": {},
     "nuid": "f161919e-3053-4d61-a42f-3891eb862ac9",
     "showTitle": false,
     "tableResultSettingsMap": {},
     "title": ""
    }
   },
   "outputs": [
    {
     "name": "stdout",
     "output_type": "stream",
     "text": [
      "+-----+--------------------+---------+--------------------+\n",
      "|label|                text|label_num|         text_tokens|\n",
      "+-----+--------------------+---------+--------------------+\n",
      "|  ham|Subject: enron me...|      0.0|[subject:, enron,...|\n",
      "|  ham|Subject: hpl nom ...|      0.0|[subject:, hpl, n...|\n",
      "|  ham|Subject: neon ret...|      0.0|[subject:, neon, ...|\n",
      "| spam|Subject: photosho...|      1.0|[subject:, photos...|\n",
      "|  ham|Subject: re : ind...|      0.0|[subject:, re, :,...|\n",
      "+-----+--------------------+---------+--------------------+\n",
      "only showing top 5 rows\n",
      "\n"
     ]
    }
   ],
   "source": [
    "# Tokenizando os dos textos\n",
    "tokens = Tokenizer(inputCol=\"text\", outputCol=\"text_tokens\")\n",
    "spam = tokens.transform(spam)\n",
    "spam.show(5)"
   ]
  },
  {
   "cell_type": "code",
   "execution_count": null,
   "metadata": {
    "application/vnd.databricks.v1+cell": {
     "cellMetadata": {
      "byteLimit": 2048000,
      "rowLimit": 10000
     },
     "inputWidgets": {},
     "nuid": "d88b9801-ab67-4c92-b939-b8377caff168",
     "showTitle": false,
     "tableResultSettingsMap": {},
     "title": ""
    }
   },
   "outputs": [
    {
     "name": "stdout",
     "output_type": "stream",
     "text": [
      "+-----+--------------------+---------+--------------------+--------------------+\n",
      "|label|                text|label_num|         text_tokens|          text_w2vec|\n",
      "+-----+--------------------+---------+--------------------+--------------------+\n",
      "|  ham|Subject: enron me...|      0.0|[subject:, enron,...|[-0.0071292772319...|\n",
      "|  ham|Subject: hpl nom ...|      0.0|[subject:, hpl, n...|[0.05170821357285...|\n",
      "|  ham|Subject: neon ret...|      0.0|[subject:, neon, ...|[-0.0362850259147...|\n",
      "| spam|Subject: photosho...|      1.0|[subject:, photos...|[-0.0031904729834...|\n",
      "|  ham|Subject: re : ind...|      0.0|[subject:, re, :,...|[0.00251259542671...|\n",
      "+-----+--------------------+---------+--------------------+--------------------+\n",
      "only showing top 5 rows\n",
      "\n"
     ]
    }
   ],
   "source": [
    "# Embedding\n",
    "word2vec = Word2Vec(inputCol=\"text_tokens\", outputCol=\"text_w2vec\")\n",
    "spam = word2vec.fit(spam).transform(spam)\n",
    "spam.show(5)"
   ]
  },
  {
   "cell_type": "markdown",
   "metadata": {
    "application/vnd.databricks.v1+cell": {
     "cellMetadata": {},
     "inputWidgets": {},
     "nuid": "3d59bcf0-6a69-4ea8-aab5-74d177a6bfa4",
     "showTitle": false,
     "tableResultSettingsMap": {},
     "title": ""
    }
   },
   "source": [
    "## Criação e Treino do Modelo"
   ]
  },
  {
   "cell_type": "code",
   "execution_count": null,
   "metadata": {
    "application/vnd.databricks.v1+cell": {
     "cellMetadata": {
      "byteLimit": 2048000,
      "rowLimit": 10000
     },
     "inputWidgets": {},
     "nuid": "e199bcbc-67a8-4255-b1e3-5e6948b7d4cf",
     "showTitle": false,
     "tableResultSettingsMap": {},
     "title": ""
    }
   },
   "outputs": [],
   "source": [
    "# Separacao em bases de treino e teste\n",
    "spam_treino, spam_teste = spam.randomSplit([.7, .3])"
   ]
  },
  {
   "cell_type": "code",
   "execution_count": null,
   "metadata": {
    "application/vnd.databricks.v1+cell": {
     "cellMetadata": {
      "byteLimit": 2048000,
      "rowLimit": 10000
     },
     "inputWidgets": {},
     "nuid": "e10b8c77-87a0-41d6-a87f-889274cb24c8",
     "showTitle": false,
     "tableResultSettingsMap": {},
     "title": ""
    }
   },
   "outputs": [],
   "source": [
    "# Criando o modelo\n",
    "rf = RandomForestClassifier(labelCol=\"label_num\", featuresCol=\"text_w2vec\", numTrees=100)\n",
    "modelo = rf.fit(spam_treino)"
   ]
  },
  {
   "cell_type": "code",
   "execution_count": null,
   "metadata": {
    "application/vnd.databricks.v1+cell": {
     "cellMetadata": {
      "byteLimit": 2048000,
      "rowLimit": 10000
     },
     "inputWidgets": {},
     "nuid": "dfac22e8-3b01-414c-b74c-f89c70db3751",
     "showTitle": false,
     "tableResultSettingsMap": {},
     "title": ""
    }
   },
   "outputs": [],
   "source": [
    "# Previsoes\n",
    "prev = modelo.transform(spam_teste)"
   ]
  },
  {
   "cell_type": "markdown",
   "metadata": {
    "application/vnd.databricks.v1+cell": {
     "cellMetadata": {},
     "inputWidgets": {},
     "nuid": "bd91ddff-4bbe-4de5-aaa9-ccb6e900c49f",
     "showTitle": false,
     "tableResultSettingsMap": {},
     "title": ""
    }
   },
   "source": [
    "## Avaliando o Resultado"
   ]
  },
  {
   "cell_type": "code",
   "execution_count": null,
   "metadata": {
    "application/vnd.databricks.v1+cell": {
     "cellMetadata": {
      "byteLimit": 2048000,
      "rowLimit": 10000
     },
     "inputWidgets": {},
     "nuid": "f1c6bdf4-fe6e-4874-9054-908a49aaddb2",
     "showTitle": false,
     "tableResultSettingsMap": {},
     "title": ""
    }
   },
   "outputs": [
    {
     "name": "stdout",
     "output_type": "stream",
     "text": [
      "0.9532997912540813\n"
     ]
    }
   ],
   "source": [
    "# Calculando a AUC\n",
    "avaliar = BinaryClassificationEvaluator(rawPredictionCol=\"prediction\", labelCol=\"label_num\", metricName=\"areaUnderROC\")\n",
    "AUC = avaliar.evaluate(prev)\n",
    "print(AUC)"
   ]
  },
  {
   "cell_type": "markdown",
   "metadata": {
    "application/vnd.databricks.v1+cell": {
     "cellMetadata": {},
     "inputWidgets": {},
     "nuid": "d63dea36-aeae-43e0-8138-8d27e37bff63",
     "showTitle": false,
     "tableResultSettingsMap": {},
     "title": ""
    }
   },
   "source": [
    "A Área sob a curva ROC foi de 95%, o que indica uma ótima capacidade de discriminação do modelo."
   ]
  }
 ],
 "metadata": {
  "application/vnd.databricks.v1+notebook": {
   "computePreferences": null,
   "dashboards": [],
   "environmentMetadata": {
    "base_environment": "",
    "client": "1"
   },
   "language": "python",
   "notebookMetadata": {
    "pythonIndentUnit": 4
   },
   "notebookName": "NLPSpark",
   "widgets": {}
  },
  "kernelspec": {
   "display_name": "Python 3 (ipykernel)",
   "language": "python",
   "name": "python3"
  },
  "language_info": {
   "codemirror_mode": {
    "name": "ipython",
    "version": 3
   },
   "file_extension": ".py",
   "mimetype": "text/x-python",
   "name": "python",
   "nbconvert_exporter": "python",
   "pygments_lexer": "ipython3",
   "version": "3.9.18"
  }
 },
 "nbformat": 4,
 "nbformat_minor": 4
}
