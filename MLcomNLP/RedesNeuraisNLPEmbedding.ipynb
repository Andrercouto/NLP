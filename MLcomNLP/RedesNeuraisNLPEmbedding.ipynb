{
 "cells": [
  {
   "cell_type": "markdown",
   "id": "3bcefef8",
   "metadata": {},
   "source": [
    "# Aplicação de Redes Neurais com Embedding para  problemas de NLP\n"
   ]
  },
  {
   "cell_type": "markdown",
   "id": "8e05a45b",
   "metadata": {},
   "source": [
    "***\n",
    "\n",
    "## Modelo 3 (Rede Neural com Embedding): Classificação de SPAM\n",
    "\n",
    "A idéia é criar um modelo que consiga responder se determinado e-mail é ou não um **spam**.\n",
    "\n",
    "Para isso, são necessários dados de e-mails que foram *preciamente* classificado, para, desta forma criar um modelo de redes neurais que irá aprender com esses dados.\n",
    "\n",
    "***\n",
    "\n",
    "## Embedding\n",
    "\n",
    "Em NLP **embedding** é uma representação vetorial densa de palavras, frases ou documentos. Em vez de usar representações esparsas, como vetorizadores utilizados nos modelos anteriroes, os embeddings fornecem uma maneira de representar palavras em um espaço vetorial contínuo onde palavras com significados semelhantes estão localizadas próximas umas das outras.\n",
    "\n",
    "Ou seja, não consideraremos apenas os tokens textuais separados como 0s ou 1s, mas o peso das relações entre as palavras será considerado. Utilizaremos o tipo de camada *Embedding* do Keras.\n",
    "\n",
    "No caso, o Embedding será uma camada, que irá contar com três principais parâmetros:\n",
    "\n",
    "- input_dim: tamanho do vocabulário.\n",
    "\n",
    "- output_dim: tamanho dos vetores de embedding.\n",
    "\n",
    "- input_lenght: comprimento das sequências de entrada.\n",
    "\n",
    "***\n",
    "\n",
    "\n",
    "### Pipeline\n",
    "\n",
    "A *pipeline* contará com os seguintes passos:\n",
    "\n",
    "- Importação dos dados (e Análise Descritiva);\n",
    "\n",
    "- Tratamento de Dados;\n",
    "\n",
    "- Criação do modelo;\n",
    "\n",
    "- Avaliação de Performance."
   ]
  },
  {
   "cell_type": "markdown",
   "id": "51d69323",
   "metadata": {},
   "source": [
    "### Importação dos Dados"
   ]
  },
  {
   "cell_type": "code",
   "execution_count": 1,
   "id": "ecc29e1a",
   "metadata": {},
   "outputs": [],
   "source": [
    "import pandas as pd\n",
    "import matplotlib.pyplot as plt\n",
    "import seaborn as sns\n",
    "import numpy as np\n",
    "import warnings\n",
    "from sklearn.model_selection import train_test_split\n",
    "from sklearn import metrics\n",
    "from sklearn.metrics import confusion_matrix, accuracy_score, roc_curve, auc\n",
    "from sklearn.preprocessing import LabelEncoder \n",
    "from tensorflow.keras.models import Sequential\n",
    "from tensorflow.keras.layers import Dense, Dropout, Flatten, Embedding\n",
    "from tensorflow.keras.metrics import AUC\n",
    "from tensorflow.keras.preprocessing.text import Tokenizer\n",
    "from tensorflow.keras.preprocessing.sequence import pad_sequences\n",
    "\n",
    "sns.set()\n",
    "warnings.filterwarnings(\"ignore\")"
   ]
  },
  {
   "cell_type": "code",
   "execution_count": 2,
   "id": "0a6f4527",
   "metadata": {},
   "outputs": [
    {
     "data": {
      "text/html": [
       "<div>\n",
       "<style scoped>\n",
       "    .dataframe tbody tr th:only-of-type {\n",
       "        vertical-align: middle;\n",
       "    }\n",
       "\n",
       "    .dataframe tbody tr th {\n",
       "        vertical-align: top;\n",
       "    }\n",
       "\n",
       "    .dataframe thead th {\n",
       "        text-align: right;\n",
       "    }\n",
       "</style>\n",
       "<table border=\"1\" class=\"dataframe\">\n",
       "  <thead>\n",
       "    <tr style=\"text-align: right;\">\n",
       "      <th></th>\n",
       "      <th>label</th>\n",
       "      <th>text</th>\n",
       "      <th>label_num</th>\n",
       "    </tr>\n",
       "  </thead>\n",
       "  <tbody>\n",
       "    <tr>\n",
       "      <th>605</th>\n",
       "      <td>ham</td>\n",
       "      <td>Subject: enron methanol ; meter # : 988291\\r\\n...</td>\n",
       "      <td>0</td>\n",
       "    </tr>\n",
       "    <tr>\n",
       "      <th>2349</th>\n",
       "      <td>ham</td>\n",
       "      <td>Subject: hpl nom for january 9 , 2001\\r\\n( see...</td>\n",
       "      <td>0</td>\n",
       "    </tr>\n",
       "  </tbody>\n",
       "</table>\n",
       "</div>"
      ],
      "text/plain": [
       "     label                                               text  label_num\n",
       "605    ham  Subject: enron methanol ; meter # : 988291\\r\\n...          0\n",
       "2349   ham  Subject: hpl nom for january 9 , 2001\\r\\n( see...          0"
      ]
     },
     "execution_count": 2,
     "metadata": {},
     "output_type": "execute_result"
    }
   ],
   "source": [
    "# Obtendo dados\n",
    "dados_emails = pd.read_csv('spam_ham_dataset.csv', index_col = 0)\n",
    "dados_emails.head(2)"
   ]
  },
  {
   "cell_type": "code",
   "execution_count": 3,
   "id": "4148acd8",
   "metadata": {},
   "outputs": [],
   "source": [
    "# Renomeando Rótulos\n",
    "dados_emails['label'].loc[dados_emails['label']=='ham'] = 'valido'"
   ]
  },
  {
   "cell_type": "markdown",
   "id": "a66e1e1e",
   "metadata": {},
   "source": [
    "### Análise Descritiva\n",
    "\n",
    "Qual o percentual de cada classe?"
   ]
  },
  {
   "cell_type": "code",
   "execution_count": 4,
   "id": "5faa6add",
   "metadata": {},
   "outputs": [
    {
     "data": {
      "text/plain": [
       "label\n",
       "valido    3672\n",
       "spam      1499\n",
       "Name: count, dtype: int64"
      ]
     },
     "execution_count": 4,
     "metadata": {},
     "output_type": "execute_result"
    }
   ],
   "source": [
    "# Contagem das classes\n",
    "dados_emails.label.value_counts()"
   ]
  },
  {
   "cell_type": "code",
   "execution_count": 5,
   "id": "8ece9c85",
   "metadata": {},
   "outputs": [
    {
     "data": {
      "image/png": "[encoded data removed]",
      "text/plain": [
       "<Figure size 800x200 with 1 Axes>"
      ]
     },
     "metadata": {},
     "output_type": "display_data"
    }
   ],
   "source": [
    "# Representação visual das classes\n",
    "prop = dados_emails.label.value_counts()\n",
    "perc = [v / prop.sum() * 100 for v in prop]\n",
    "acumulado = 0\n",
    "\n",
    "# inicializando figura\n",
    "plt.figure(figsize=(8, 2))\n",
    "plt.yticks([])\n",
    "\n",
    "# Plotando a barras de spam e validos\n",
    "for i, v in enumerate(perc):\n",
    "    plt.barh('Emails', v, left=acumulado, color=['darkblue', 'firebrick'][i], height=0.5)\n",
    "    acumulado += v  \n",
    "\n",
    "\n",
    "# Texto\n",
    "acumulado = 0\n",
    "for i, v in enumerate(perc):\n",
    "    plt.text(acumulado + v / 2, 'Emails', f'{v:.2f}%', va='center', color='white')\n",
    "    acumulado += v \n",
    "\n",
    "\n",
    "plt.legend(prop.index, bbox_to_anchor=(1.05, 1), loc='upper left')\n",
    "plt.title('Percentual das classes dos E-mails')\n",
    "plt.show()"
   ]
  },
  {
   "cell_type": "markdown",
   "id": "36bf47d2",
   "metadata": {},
   "source": [
    "### Tratamento de Dados"
   ]
  },
  {
   "cell_type": "code",
   "execution_count": 6,
   "id": "7ea11b6a",
   "metadata": {},
   "outputs": [],
   "source": [
    "# Separacao treino/teste\n",
    "X_treino, X_teste, y_treino, y_teste = train_test_split(dados_emails['text'], dados_emails['label_num'], test_size = .3)"
   ]
  },
  {
   "cell_type": "code",
   "execution_count": 7,
   "id": "be3ff6dd",
   "metadata": {},
   "outputs": [],
   "source": [
    "# Tokenizando os corpus de treino e teste\n",
    "token = Tokenizer(num_words=1000)\n",
    "token.fit_on_texts(X_treino)\n",
    "\n",
    "X_treino = token.texts_to_sequences(X_treino)\n",
    "X_teste = token.texts_to_sequences(X_teste)"
   ]
  },
  {
   "cell_type": "code",
   "execution_count": 8,
   "id": "5a11548d",
   "metadata": {},
   "outputs": [
    {
     "name": "stdout",
     "output_type": "stream",
     "text": [
      "[[10, 26, 840, 226, 443, 1, 840, 425, 107, 114, 24, 19, 13, 73, 394, 85, 13, 5, 1, 9, 121, 9, 225, 7, 124, 542, 918, 59, 95, 643, 49, 120, 42, 480, 110, 61, 140, 799, 321, 7, 35, 542, 904, 136, 124, 26, 169, 300, 1, 34, 37, 61, 766, 7, 2, 951, 225, 7, 130, 1, 15, 2, 5, 107, 13, 140, 13, 2, 436, 425, 7, 289, 34, 6, 2, 663, 7, 140, 228, 370, 5, 186, 35, 247, 5, 26, 159, 13, 7, 644, 1, 767, 5, 359, 133, 172, 5, 1, 60, 100, 13, 231, 72, 754, 5, 60, 1, 156, 29, 15, 109, 6, 187, 3, 13, 2, 1, 15, 73, 3, 2, 318, 339, 808, 13, 177, 436, 104, 11, 23, 8, 436, 683, 136, 85, 13, 27, 39, 2, 297, 387, 306, 89, 28, 436, 711, 20, 23, 16, 7, 26, 279, 96, 27, 274, 310, 199, 1, 904, 60, 22, 462, 50, 3, 35, 26, 2, 455, 110, 1, 110, 186, 137, 542, 904, 133, 71, 455, 281, 542, 13, 22, 2, 799, 24, 158, 497, 61, 832, 359, 6, 173, 13, 159, 952, 13, 137, 68, 542, 13, 225, 26, 310, 3, 2, 300, 1, 14, 645, 7, 159, 613, 1, 2, 951, 60, 766, 100, 71, 321, 5, 567, 62, 1, 601, 62, 196, 62, 196, 5, 350, 336, 62, 184, 1, 28, 148, 8, 711, 7, 951, 20, 23, 186, 2, 284, 711, 754, 133, 5, 539, 2, 7, 71, 963, 159, 15, 42, 289, 14, 76, 287, 141, 225, 5, 2, 951, 15, 130, 20, 177, 95, 7, 68, 62, 6, 99, 19, 8, 436, 1, 29, 15, 131, 8, 7, 109, 297, 102, 349, 96, 110, 2, 391, 37, 16, 160, 11, 28, 2, 214, 136, 67, 138, 85, 13, 156, 297, 2, 244, 29, 136, 2, 1, 36, 581, 2, 102, 5, 13, 16, 28, 289, 14, 3, 19, 101, 15, 331, 3, 229, 39, 594, 15, 40, 71, 7, 356, 656, 256, 207, 15, 8, 607, 6, 102, 131, 133, 80, 40, 19, 528, 34, 2, 848, 6, 58, 391, 1, 16, 833, 60, 100, 6, 2, 7, 16, 5, 6, 7, 2, 107, 833, 28, 690, 391, 5, 16, 15, 40, 3, 19, 391, 608, 16, 102, 15, 8, 3, 456, 71, 465, 3, 582, 437, 102, 356, 307, 245, 20, 28, 10, 136, 5, 89, 28, 81, 5, 81, 24, 13, 61, 443, 7, 712, 13, 58, 107, 1], [10, 52, 586, 367, 1, 36, 94, 119, 67, 34, 541, 34, 511, 65, 678, 8, 602, 46, 76, 276, 134, 108, 310, 69, 3, 367, 507, 12, 4, 46, 45, 320, 408, 59, 18, 18, 57, 84, 112, 12, 4, 46, 10, 586, 367, 1, 38, 543, 60, 162, 300, 280, 637, 6, 42, 72, 68, 122, 20, 24, 61, 326, 60, 145, 9, 54, 27, 16, 326, 144, 17, 9, 113, 114, 9, 335, 185, 6, 238, 2, 343, 158, 3, 23, 162, 652, 145, 9, 54, 96, 142, 273, 733, 98, 149, 99, 277, 668, 3, 26, 40, 3, 178, 16, 38, 529, 2, 101, 136, 202, 29, 78, 34, 541, 34, 2, 15, 186, 114, 74, 19, 496, 3, 985, 178, 306, 42, 122, 36, 94, 44, 67, 34, 541, 34, 511, 1, 65], [10, 75, 37, 296, 371, 59, 18, 14, 175, 263, 93, 111, 125, 1, 14, 175, 263, 32, 111, 228, 146, 69, 3, 1, 45, 1, 10]]\n"
     ]
    }
   ],
   "source": [
    "# Verificando o resultado do processo\n",
    "print(X_treino[0:3])"
   ]
  },
  {
   "cell_type": "markdown",
   "id": "66c6a2bb-3326-463d-9822-f0c98453eadf",
   "metadata": {},
   "source": [
    "Como podemos observar, o tamanho dos registros está desigual (uma vez que o tamanho dos e-mails é diferente) e a rede neural precisa de um formato tabular, portanto usaremos o método *pad_sequences* para garantir que o registro tenham o mesmo comprimento."
   ]
  },
  {
   "cell_type": "code",
   "execution_count": 9,
   "id": "be28788b-40f3-497e-a5e8-bcd20a2bd6a5",
   "metadata": {},
   "outputs": [],
   "source": [
    "# Ajustando o tamanho das sequências\n",
    "X_treino = pad_sequences(X_treino, padding=\"post\", maxlen=500)\n",
    "X_teste = pad_sequences(X_teste, padding=\"post\", maxlen=500)"
   ]
  },
  {
   "cell_type": "markdown",
   "id": "b7227230",
   "metadata": {},
   "source": [
    "### Criação do modelo"
   ]
  },
  {
   "cell_type": "code",
   "execution_count": 11,
   "id": "81f72494",
   "metadata": {},
   "outputs": [],
   "source": [
    "# Iniciando o modelo\n",
    "model = Sequential()\n",
    "\n",
    "# Embedding\n",
    "model.add(Embedding(input_dim=len(token.word_index), # numero de palavras\n",
    "                    output_dim=50, # tamanho do vetor denso\n",
    "                    input_length=len(X_treino[0]) # comprimento das sequências de entrada\n",
    "                   ))\n",
    "\n",
    "# Camada Flatten (NECESSÁRIA para ligar o Emb. ä camada de entrada)\n",
    "model.add(Flatten())\n",
    "model.add(Dense(units=10,activation='relu'))\n",
    "model.add(Dropout(0.1)) \n",
    "model.add(Dense(units=1,activation='sigmoid')) "
   ]
  },
  {
   "cell_type": "code",
   "execution_count": 12,
   "id": "0ff0b507",
   "metadata": {},
   "outputs": [
    {
     "data": {
      "text/html": [
       "<pre style=\"white-space:pre;overflow-x:auto;line-height:normal;font-family:Menlo,'DejaVu Sans Mono',consolas,'Courier New',monospace\"><span style=\"font-weight: bold\">Model: \"sequential_1\"</span>\n",
       "</pre>\n"
      ],
      "text/plain": [
       "\u001b[1mModel: \"sequential_1\"\u001b[0m\n"
      ]
     },
     "metadata": {},
     "output_type": "display_data"
    },
    {
     "data": {
      "text/html": [
       "<pre style=\"white-space:pre;overflow-x:auto;line-height:normal;font-family:Menlo,'DejaVu Sans Mono',consolas,'Courier New',monospace\">┏━━━━━━━━━━━━━━━━━━━━━━━━━━━━━━━━━━━━━━┳━━━━━━━━━━━━━━━━━━━━━━━━━━━━━┳━━━━━━━━━━━━━━━━━┓\n",
       "┃<span style=\"font-weight: bold\"> Layer (type)                         </span>┃<span style=\"font-weight: bold\"> Output Shape                </span>┃<span style=\"font-weight: bold\">         Param # </span>┃\n",
       "┡━━━━━━━━━━━━━━━━━━━━━━━━━━━━━━━━━━━━━━╇━━━━━━━━━━━━━━━━━━━━━━━━━━━━━╇━━━━━━━━━━━━━━━━━┩\n",
       "│ embedding_1 (<span style=\"color: #0087ff; text-decoration-color: #0087ff\">Embedding</span>)              │ ?                           │     <span style=\"color: #00af00; text-decoration-color: #00af00\">0</span> (unbuilt) │\n",
       "├──────────────────────────────────────┼─────────────────────────────┼─────────────────┤\n",
       "│ flatten_1 (<span style=\"color: #0087ff; text-decoration-color: #0087ff\">Flatten</span>)                  │ ?                           │     <span style=\"color: #00af00; text-decoration-color: #00af00\">0</span> (unbuilt) │\n",
       "├──────────────────────────────────────┼─────────────────────────────┼─────────────────┤\n",
       "│ dense_2 (<span style=\"color: #0087ff; text-decoration-color: #0087ff\">Dense</span>)                      │ ?                           │     <span style=\"color: #00af00; text-decoration-color: #00af00\">0</span> (unbuilt) │\n",
       "├──────────────────────────────────────┼─────────────────────────────┼─────────────────┤\n",
       "│ dropout_1 (<span style=\"color: #0087ff; text-decoration-color: #0087ff\">Dropout</span>)                  │ ?                           │     <span style=\"color: #00af00; text-decoration-color: #00af00\">0</span> (unbuilt) │\n",
       "├──────────────────────────────────────┼─────────────────────────────┼─────────────────┤\n",
       "│ dense_3 (<span style=\"color: #0087ff; text-decoration-color: #0087ff\">Dense</span>)                      │ ?                           │     <span style=\"color: #00af00; text-decoration-color: #00af00\">0</span> (unbuilt) │\n",
       "└──────────────────────────────────────┴─────────────────────────────┴─────────────────┘\n",
       "</pre>\n"
      ],
      "text/plain": [
       "┏━━━━━━━━━━━━━━━━━━━━━━━━━━━━━━━━━━━━━━┳━━━━━━━━━━━━━━━━━━━━━━━━━━━━━┳━━━━━━━━━━━━━━━━━┓\n",
       "┃\u001b[1m \u001b[0m\u001b[1mLayer (type)                        \u001b[0m\u001b[1m \u001b[0m┃\u001b[1m \u001b[0m\u001b[1mOutput Shape               \u001b[0m\u001b[1m \u001b[0m┃\u001b[1m \u001b[0m\u001b[1m        Param #\u001b[0m\u001b[1m \u001b[0m┃\n",
       "┡━━━━━━━━━━━━━━━━━━━━━━━━━━━━━━━━━━━━━━╇━━━━━━━━━━━━━━━━━━━━━━━━━━━━━╇━━━━━━━━━━━━━━━━━┩\n",
       "│ embedding_1 (\u001b[38;5;33mEmbedding\u001b[0m)              │ ?                           │     \u001b[38;5;34m0\u001b[0m (unbuilt) │\n",
       "├──────────────────────────────────────┼─────────────────────────────┼─────────────────┤\n",
       "│ flatten_1 (\u001b[38;5;33mFlatten\u001b[0m)                  │ ?                           │     \u001b[38;5;34m0\u001b[0m (unbuilt) │\n",
       "├──────────────────────────────────────┼─────────────────────────────┼─────────────────┤\n",
       "│ dense_2 (\u001b[38;5;33mDense\u001b[0m)                      │ ?                           │     \u001b[38;5;34m0\u001b[0m (unbuilt) │\n",
       "├──────────────────────────────────────┼─────────────────────────────┼─────────────────┤\n",
       "│ dropout_1 (\u001b[38;5;33mDropout\u001b[0m)                  │ ?                           │     \u001b[38;5;34m0\u001b[0m (unbuilt) │\n",
       "├──────────────────────────────────────┼─────────────────────────────┼─────────────────┤\n",
       "│ dense_3 (\u001b[38;5;33mDense\u001b[0m)                      │ ?                           │     \u001b[38;5;34m0\u001b[0m (unbuilt) │\n",
       "└──────────────────────────────────────┴─────────────────────────────┴─────────────────┘\n"
      ]
     },
     "metadata": {},
     "output_type": "display_data"
    },
    {
     "data": {
      "text/html": [
       "<pre style=\"white-space:pre;overflow-x:auto;line-height:normal;font-family:Menlo,'DejaVu Sans Mono',consolas,'Courier New',monospace\"><span style=\"font-weight: bold\"> Total params: </span><span style=\"color: #00af00; text-decoration-color: #00af00\">0</span> (0.00 B)\n",
       "</pre>\n"
      ],
      "text/plain": [
       "\u001b[1m Total params: \u001b[0m\u001b[38;5;34m0\u001b[0m (0.00 B)\n"
      ]
     },
     "metadata": {},
     "output_type": "display_data"
    },
    {
     "data": {
      "text/html": [
       "<pre style=\"white-space:pre;overflow-x:auto;line-height:normal;font-family:Menlo,'DejaVu Sans Mono',consolas,'Courier New',monospace\"><span style=\"font-weight: bold\"> Trainable params: </span><span style=\"color: #00af00; text-decoration-color: #00af00\">0</span> (0.00 B)\n",
       "</pre>\n"
      ],
      "text/plain": [
       "\u001b[1m Trainable params: \u001b[0m\u001b[38;5;34m0\u001b[0m (0.00 B)\n"
      ]
     },
     "metadata": {},
     "output_type": "display_data"
    },
    {
     "data": {
      "text/html": [
       "<pre style=\"white-space:pre;overflow-x:auto;line-height:normal;font-family:Menlo,'DejaVu Sans Mono',consolas,'Courier New',monospace\"><span style=\"font-weight: bold\"> Non-trainable params: </span><span style=\"color: #00af00; text-decoration-color: #00af00\">0</span> (0.00 B)\n",
       "</pre>\n"
      ],
      "text/plain": [
       "\u001b[1m Non-trainable params: \u001b[0m\u001b[38;5;34m0\u001b[0m (0.00 B)\n"
      ]
     },
     "metadata": {},
     "output_type": "display_data"
    }
   ],
   "source": [
    "model.compile(loss=\"binary_crossentropy\",\n",
    "              optimizer=\"adam\", \n",
    "              metrics=[\"accuracy\", AUC(name=\"auc\")]) \n",
    "\n",
    "model.summary()"
   ]
  },
  {
   "cell_type": "code",
   "execution_count": 13,
   "id": "c921ce16-49ec-4297-9f1e-77cec09fa3c5",
   "metadata": {},
   "outputs": [],
   "source": [
    "# Transformando em arrays\n",
    "X_treino = np.array(X_treino)\n",
    "y_treino = np.array(y_treino)\n",
    "X_teste = np.array(X_teste)\n",
    "y_teste = np.array(y_teste)"
   ]
  },
  {
   "cell_type": "code",
   "execution_count": 14,
   "id": "5de4c0b9",
   "metadata": {},
   "outputs": [
    {
     "name": "stdout",
     "output_type": "stream",
     "text": [
      "Epoch 1/10\n",
      "\u001b[1m362/362\u001b[0m \u001b[32m━━━━━━━━━━━━━━━━━━━━\u001b[0m\u001b[37m\u001b[0m \u001b[1m9s\u001b[0m 22ms/step - accuracy: 0.7599 - auc: 0.7055 - loss: 0.4999 - val_accuracy: 0.9472 - val_auc: 0.9897 - val_loss: 0.1262\n",
      "Epoch 2/10\n",
      "\u001b[1m362/362\u001b[0m \u001b[32m━━━━━━━━━━━━━━━━━━━━\u001b[0m\u001b[37m\u001b[0m \u001b[1m8s\u001b[0m 21ms/step - accuracy: 0.9647 - auc: 0.9942 - loss: 0.0869 - val_accuracy: 0.9697 - val_auc: 0.9943 - val_loss: 0.0834\n",
      "Epoch 3/10\n",
      "\u001b[1m362/362\u001b[0m \u001b[32m━━━━━━━━━━━━━━━━━━━━\u001b[0m\u001b[37m\u001b[0m \u001b[1m8s\u001b[0m 22ms/step - accuracy: 0.9912 - auc: 0.9996 - loss: 0.0280 - val_accuracy: 0.9659 - val_auc: 0.9947 - val_loss: 0.0800\n",
      "Epoch 4/10\n",
      "\u001b[1m362/362\u001b[0m \u001b[32m━━━━━━━━━━━━━━━━━━━━\u001b[0m\u001b[37m\u001b[0m \u001b[1m8s\u001b[0m 22ms/step - accuracy: 0.9965 - auc: 0.9999 - loss: 0.0147 - val_accuracy: 0.9646 - val_auc: 0.9936 - val_loss: 0.0916\n",
      "Epoch 5/10\n",
      "\u001b[1m362/362\u001b[0m \u001b[32m━━━━━━━━━━━━━━━━━━━━\u001b[0m\u001b[37m\u001b[0m \u001b[1m9s\u001b[0m 25ms/step - accuracy: 0.9954 - auc: 0.9999 - loss: 0.0128 - val_accuracy: 0.9665 - val_auc: 0.9929 - val_loss: 0.0944\n",
      "Epoch 6/10\n",
      "\u001b[1m362/362\u001b[0m \u001b[32m━━━━━━━━━━━━━━━━━━━━\u001b[0m\u001b[37m\u001b[0m \u001b[1m9s\u001b[0m 26ms/step - accuracy: 0.9975 - auc: 0.9999 - loss: 0.0094 - val_accuracy: 0.9652 - val_auc: 0.9908 - val_loss: 0.1139\n",
      "Epoch 7/10\n",
      "\u001b[1m362/362\u001b[0m \u001b[32m━━━━━━━━━━━━━━━━━━━━\u001b[0m\u001b[37m\u001b[0m \u001b[1m9s\u001b[0m 25ms/step - accuracy: 0.9975 - auc: 0.9999 - loss: 0.0084 - val_accuracy: 0.9613 - val_auc: 0.9918 - val_loss: 0.1057\n",
      "Epoch 8/10\n",
      "\u001b[1m362/362\u001b[0m \u001b[32m━━━━━━━━━━━━━━━━━━━━\u001b[0m\u001b[37m\u001b[0m \u001b[1m9s\u001b[0m 26ms/step - accuracy: 0.9979 - auc: 0.9999 - loss: 0.0088 - val_accuracy: 0.9620 - val_auc: 0.9917 - val_loss: 0.1165\n",
      "Epoch 9/10\n",
      "\u001b[1m362/362\u001b[0m \u001b[32m━━━━━━━━━━━━━━━━━━━━\u001b[0m\u001b[37m\u001b[0m \u001b[1m9s\u001b[0m 26ms/step - accuracy: 0.9972 - auc: 0.9999 - loss: 0.0077 - val_accuracy: 0.9639 - val_auc: 0.9908 - val_loss: 0.1303\n",
      "Epoch 10/10\n",
      "\u001b[1m362/362\u001b[0m \u001b[32m━━━━━━━━━━━━━━━━━━━━\u001b[0m\u001b[37m\u001b[0m \u001b[1m9s\u001b[0m 25ms/step - accuracy: 0.9978 - auc: 1.0000 - loss: 0.0061 - val_accuracy: 0.9588 - val_auc: 0.9890 - val_loss: 0.1341\n"
     ]
    },
    {
     "data": {
      "text/plain": [
       "<keras.src.callbacks.history.History at 0x15a1f4262a0>"
      ]
     },
     "execution_count": 14,
     "metadata": {},
     "output_type": "execute_result"
    }
   ],
   "source": [
    "# Treinando a rede neural\n",
    "model.fit(X_treino,\n",
    "          y_treino,\n",
    "          epochs=10,\n",
    "          batch_size=10,\n",
    "          verbose=True,\n",
    "          validation_data=(X_teste, y_teste))"
   ]
  },
  {
   "cell_type": "markdown",
   "id": "d998f4a1",
   "metadata": {},
   "source": [
    "### Avaliação de Performance"
   ]
  },
  {
   "cell_type": "code",
   "execution_count": 15,
   "id": "a230e2c0",
   "metadata": {},
   "outputs": [
    {
     "name": "stdout",
     "output_type": "stream",
     "text": [
      "\u001b[1m49/49\u001b[0m \u001b[32m━━━━━━━━━━━━━━━━━━━━\u001b[0m\u001b[37m\u001b[0m \u001b[1m0s\u001b[0m 2ms/step - accuracy: 0.9644 - auc: 0.9897 - loss: 0.1180\n",
      "\n",
      "Loss: 13.41\n",
      "Acurácia: 95.88\n",
      "Área sob a curva ROC: 98.9\n"
     ]
    }
   ],
   "source": [
    "# Avaliando desempenho\n",
    "loss, accuracy, roc = model.evaluate(X_teste, y_teste)\n",
    "print(f\"\\nLoss:\", round(((loss)*100),2))\n",
    "print(\"Acurácia:\", round(((accuracy)*100),2))\n",
    "print(\"Área sob a curva ROC:\", round(((roc)*100),2))"
   ]
  },
  {
   "cell_type": "code",
   "execution_count": 16,
   "id": "6d39e917",
   "metadata": {},
   "outputs": [
    {
     "name": "stdout",
     "output_type": "stream",
     "text": [
      "\u001b[1m49/49\u001b[0m \u001b[32m━━━━━━━━━━━━━━━━━━━━\u001b[0m\u001b[37m\u001b[0m \u001b[1m0s\u001b[0m 3ms/step\n"
     ]
    }
   ],
   "source": [
    "# Realizando previsoes\n",
    "prev = model.predict(X_teste)"
   ]
  },
  {
   "cell_type": "code",
   "execution_count": 19,
   "id": "18169ecf",
   "metadata": {},
   "outputs": [
    {
     "data": {
      "image/png": "[encoded data removed]",
      "text/plain": [
       "<Figure size 500x500 with 1 Axes>"
      ]
     },
     "metadata": {},
     "output_type": "display_data"
    }
   ],
   "source": [
    "# Área sob a curva roc\n",
    "fpr, tpr, thresholds = roc_curve(y_teste, prev)\n",
    "roc_auc = auc(fpr, tpr)\n",
    "\n",
    "\n",
    "plt.figure(figsize=(5,5))\n",
    "plt.plot(fpr,tpr)\n",
    "plt.plot(fpr,fpr, color='gray')\n",
    "plt.title(f\"Area Under ROC curve: {round(roc_auc,3)}\", fontsize=13)\n",
    "plt.xlabel(\"Specificity\", fontsize=10)\n",
    "plt.ylabel(\"Sensitivity\", fontsize=10)\n",
    "plt.show()"
   ]
  },
  {
   "cell_type": "markdown",
   "id": "75ebd1e7",
   "metadata": {},
   "source": [
    "O modelo de redes neurais com embedding apresentou uma área sob a curva roc de 0.993, ou 99,3%. \n",
    "Esse valor indica uma performance excelente para distinguir entre spams e e-mail válidos."
   ]
  }
 ],
 "metadata": {
  "kernelspec": {
   "display_name": "Projeto NLP",
   "language": "python",
   "name": "nlp"
  },
  "language_info": {
   "codemirror_mode": {
    "name": "ipython",
    "version": 3
   },
   "file_extension": ".py",
   "mimetype": "text/x-python",
   "name": "python",
   "nbconvert_exporter": "python",
   "pygments_lexer": "ipython3",
   "version": "3.12.5"
  }
 },
 "nbformat": 4,
 "nbformat_minor": 5
}
