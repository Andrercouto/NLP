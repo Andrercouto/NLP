{
 "cells": [
  {
   "cell_type": "markdown",
   "id": "3bcefef8",
   "metadata": {},
   "source": [
    "# Aplicação de Redes Neurais com Embedding para  problemas de NLP\n"
   ]
  },
  {
   "cell_type": "markdown",
   "id": "8e05a45b",
   "metadata": {},
   "source": [
    "***\n",
    "\n",
    "## Modelo 3 (Rede Neural com Embedding): Classificação de SPAM\n",
    "\n",
    "A idéia é criar um modelo que consiga responder se determinado e-mail é ou não um **spam**.\n",
    "\n",
    "Para isso, são necessários dados de e-mails que foram *preciamente* classificado, para, desta forma criar um modelo de redes neurais que irá aprender com esses dados.\n",
    "\n",
    "***\n",
    "\n",
    "## Embedding\n",
    "\n",
    "Em NLP **embedding** é uma representação vetorial densa de palavras, frases ou documentos. Em vez de usar representações esparsas, como vetorizadores utilizados nos modelos anteriroes, os embeddings fornecem uma maneira de representar palavras em um espaço vetorial contínuo onde palavras com significados semelhantes estão localizadas próximas umas das outras.\n",
    "\n",
    "Ou seja, não consideraremos apenas os tokens textuais separados como 0s ou 1s, mas o peso das relações entre as palavras será considerado. Utilizaremos o tipo de camada *Embedding* do Keras.\n",
    "\n",
    "No caso, o Embedding será uma camada, que irá contar com três principais parâmetros:\n",
    "\n",
    "- input_dim: tamanho do vocabulário.\n",
    "\n",
    "- output_dim: tamanho dos vetores de embedding.\n",
    "\n",
    "- input_lenght: comprimento das sequências de entrada.\n",
    "\n",
    "#### Regularização L2\n",
    "\n",
    "Para evitar overfitting, será aplicada a regularização L2 nas camadas densas do modelo. Essa técnica penaliza pesos excessivamente grandes, ajudando a generalizar melhor o modelo.\n",
    "\n",
    "\n",
    "#### Early Stopping\n",
    "\n",
    "O Early Stopping é uma técnica usada para evitar overfitting e melhorar a eficiência do treinamento de redes neurais. Ele monitora a performance do modelo em um conjunto de validação durante o treinamento e interrompe o processo quando a performance para de melhorar.\n",
    "\n",
    "O critério mais comum para definir o momento de parar é observar o valor da loss de validação. Quando a loss para de melhorar (ou seja, quando começa a aumentar), o Early Stopping interrompe o treinamento. Com isso, o modelo evita sobreajustar aos dados de treino, o que pode levar a uma generalização ruim em dados novos.\n",
    "\n",
    "***\n",
    "\n",
    "\n",
    "### Pipeline\n",
    "\n",
    "A *pipeline* contará com os seguintes passos:\n",
    "\n",
    "- Importação dos dados (e Análise Descritiva);\n",
    "\n",
    "- Tratamento de Dados;\n",
    "\n",
    "- Criação do modelo;\n",
    "\n",
    "- Avaliação de Performance."
   ]
  },
  {
   "cell_type": "markdown",
   "id": "51d69323",
   "metadata": {},
   "source": [
    "### Importação dos Dados"
   ]
  },
  {
   "cell_type": "code",
   "execution_count": 1,
   "id": "ecc29e1a",
   "metadata": {},
   "outputs": [],
   "source": [
    "import pandas as pd\n",
    "import matplotlib.pyplot as plt\n",
    "import seaborn as sns\n",
    "import numpy as np\n",
    "import warnings\n",
    "from sklearn.model_selection import train_test_split\n",
    "from sklearn import metrics\n",
    "from sklearn.metrics import confusion_matrix, accuracy_score, roc_curve, auc\n",
    "from sklearn.preprocessing import LabelEncoder \n",
    "from tensorflow.keras.models import Sequential\n",
    "from tensorflow.keras.layers import Dense, Dropout, Flatten, Embedding\n",
    "from tensorflow.keras.metrics import AUC\n",
    "from tensorflow.keras.preprocessing.text import Tokenizer\n",
    "from tensorflow.keras.preprocessing.sequence import pad_sequences\n",
    "from tensorflow.keras import regularizers\n",
    "from tensorflow.keras.callbacks import EarlyStopping\n",
    "\n",
    "sns.set()\n",
    "warnings.filterwarnings(\"ignore\")"
   ]
  },
  {
   "cell_type": "code",
   "execution_count": 2,
   "id": "0a6f4527",
   "metadata": {},
   "outputs": [
    {
     "data": {
      "text/html": [
       "<div>\n",
       "<style scoped>\n",
       "    .dataframe tbody tr th:only-of-type {\n",
       "        vertical-align: middle;\n",
       "    }\n",
       "\n",
       "    .dataframe tbody tr th {\n",
       "        vertical-align: top;\n",
       "    }\n",
       "\n",
       "    .dataframe thead th {\n",
       "        text-align: right;\n",
       "    }\n",
       "</style>\n",
       "<table border=\"1\" class=\"dataframe\">\n",
       "  <thead>\n",
       "    <tr style=\"text-align: right;\">\n",
       "      <th></th>\n",
       "      <th>label</th>\n",
       "      <th>text</th>\n",
       "      <th>label_num</th>\n",
       "    </tr>\n",
       "  </thead>\n",
       "  <tbody>\n",
       "    <tr>\n",
       "      <th>605</th>\n",
       "      <td>ham</td>\n",
       "      <td>Subject: enron methanol ; meter # : 988291\\r\\n...</td>\n",
       "      <td>0</td>\n",
       "    </tr>\n",
       "    <tr>\n",
       "      <th>2349</th>\n",
       "      <td>ham</td>\n",
       "      <td>Subject: hpl nom for january 9 , 2001\\r\\n( see...</td>\n",
       "      <td>0</td>\n",
       "    </tr>\n",
       "  </tbody>\n",
       "</table>\n",
       "</div>"
      ],
      "text/plain": [
       "     label                                               text  label_num\n",
       "605    ham  Subject: enron methanol ; meter # : 988291\\r\\n...          0\n",
       "2349   ham  Subject: hpl nom for january 9 , 2001\\r\\n( see...          0"
      ]
     },
     "execution_count": 2,
     "metadata": {},
     "output_type": "execute_result"
    }
   ],
   "source": [
    "# Obtendo dados\n",
    "dados_emails = pd.read_csv(r'..\\Datasets\\spam_ham_dataset.csv', index_col = 0)\n",
    "dados_emails.head(2)"
   ]
  },
  {
   "cell_type": "code",
   "execution_count": 3,
   "id": "4148acd8",
   "metadata": {},
   "outputs": [],
   "source": [
    "# Renomeando Rótulos\n",
    "dados_emails['label'].loc[dados_emails['label']=='ham'] = 'valido'"
   ]
  },
  {
   "cell_type": "markdown",
   "id": "a66e1e1e",
   "metadata": {},
   "source": [
    "### Análise Descritiva\n",
    "\n",
    "Qual o percentual de cada classe?"
   ]
  },
  {
   "cell_type": "code",
   "execution_count": 4,
   "id": "5faa6add",
   "metadata": {},
   "outputs": [
    {
     "data": {
      "text/plain": [
       "label\n",
       "valido    3672\n",
       "spam      1499\n",
       "Name: count, dtype: int64"
      ]
     },
     "execution_count": 4,
     "metadata": {},
     "output_type": "execute_result"
    }
   ],
   "source": [
    "# Contagem das classes\n",
    "dados_emails.label.value_counts()"
   ]
  },
  {
   "cell_type": "code",
   "execution_count": 5,
   "id": "8ece9c85",
   "metadata": {},
   "outputs": [
    {
     "data": {
      "image/png": "[encoded data removed]",
      "text/plain": [
       "<Figure size 800x200 with 1 Axes>"
      ]
     },
     "metadata": {},
     "output_type": "display_data"
    }
   ],
   "source": [
    "# Representação visual das classes\n",
    "prop = dados_emails.label.value_counts()\n",
    "perc = [v / prop.sum() * 100 for v in prop]\n",
    "acumulado = 0\n",
    "\n",
    "# inicializando figura\n",
    "plt.figure(figsize=(8, 2))\n",
    "plt.yticks([])\n",
    "\n",
    "# Plotando a barras de spam e validos\n",
    "for i, v in enumerate(perc):\n",
    "    plt.barh('Emails', v, left=acumulado, color=['darkblue', 'firebrick'][i], height=0.5)\n",
    "    acumulado += v  \n",
    "\n",
    "\n",
    "# Texto\n",
    "acumulado = 0\n",
    "for i, v in enumerate(perc):\n",
    "    plt.text(acumulado + v / 2, 'Emails', f'{v:.2f}%', va='center', color='white')\n",
    "    acumulado += v \n",
    "\n",
    "\n",
    "plt.legend(prop.index, bbox_to_anchor=(1.05, 1), loc='upper left')\n",
    "plt.title('Percentual das classes dos E-mails')\n",
    "plt.show()"
   ]
  },
  {
   "cell_type": "markdown",
   "id": "36bf47d2",
   "metadata": {},
   "source": [
    "### Tratamento de Dados"
   ]
  },
  {
   "cell_type": "code",
   "execution_count": 6,
   "id": "7ea11b6a",
   "metadata": {},
   "outputs": [],
   "source": [
    "# Separacao treino/teste\n",
    "X_treino, X_teste, y_treino, y_teste = train_test_split(dados_emails['text'], dados_emails['label_num'], test_size = .3, random_state=42)"
   ]
  },
  {
   "cell_type": "code",
   "execution_count": 7,
   "id": "be3ff6dd",
   "metadata": {},
   "outputs": [],
   "source": [
    "# Tokenizando os corpus de treino e teste\n",
    "token = Tokenizer(num_words=1000)\n",
    "token.fit_on_texts(X_treino)\n",
    "\n",
    "X_treino = token.texts_to_sequences(X_treino)\n",
    "X_teste = token.texts_to_sequences(X_teste)"
   ]
  },
  {
   "cell_type": "code",
   "execution_count": 8,
   "id": "5a11548d",
   "metadata": {},
   "outputs": [
    {
     "name": "stdout",
     "output_type": "stream",
     "text": [
      "[[9, 52, 16, 93, 2, 524, 509, 264, 4, 2, 90, 164, 20, 53, 446, 103, 16, 389, 24, 8, 561, 25, 2, 374, 6, 49, 58, 130, 69, 58, 21, 24, 8, 90, 7, 47, 6, 40, 47, 241, 400, 564, 30, 21, 404, 3, 164, 2, 374, 1, 513], [9, 456, 910, 256, 1, 456, 13, 395, 7, 370, 475, 1, 673, 79, 240, 1, 102, 235, 117, 1, 475, 1, 673, 79, 240, 102, 235, 117, 729, 498, 530, 59, 291, 25, 301, 3, 981, 7, 31, 17, 28, 707, 77, 301, 1, 205, 6, 137, 99, 439, 274, 133, 6, 626, 729, 498, 530, 59, 1, 90, 39, 959, 11, 15, 319, 3, 179, 111, 58, 11, 2, 564, 4, 25, 53, 2, 437, 25, 335, 7, 729, 498, 105, 192, 15, 8, 446, 109, 3, 258, 8, 325, 27, 2, 98, 1, 1, 811, 729, 370, 79, 240, 419, 498, 530, 59, 14, 3, 20, 31, 63, 291, 25, 301, 3, 981, 7, 216, 707, 301, 341, 6, 2, 440, 368, 69, 50, 142, 11, 319, 4, 2, 3, 19, 11, 763, 2, 7, 14, 525, 3, 19, 833, 330, 152, 419, 31, 14, 885, 20, 23, 2, 211, 77, 301, 476, 2, 440, 63, 65, 440, 14, 885, 3, 911, 13, 36, 330, 217, 126, 419, 1, 2, 77, 301, 291, 594, 311, 2, 729, 498, 530, 944, 17, 28, 3, 24, 2, 3, 518, 3, 158, 8, 137, 870, 254, 53, 2, 51, 677, 53, 7, 158, 331, 220, 2, 77, 301, 1, 7, 77, 301, 172, 212, 223, 143, 14, 409, 6, 729, 552, 87, 692, 531, 398, 11, 729, 27, 2, 395, 7, 855, 214, 179, 531, 970, 307, 4, 7, 211, 137, 34, 8, 31, 14, 2, 307, 14, 132, 2, 20, 4, 3, 460, 99, 4, 192, 6, 735, 3, 499, 1, 263, 1, 142, 301, 11, 328, 368, 2, 4, 115, 7, 2, 370, 11, 2, 220, 2, 598, 7, 216, 49, 11, 729, 11, 242, 6, 453, 4, 863, 257, 34, 224, 2, 7, 971, 112, 531, 11, 855, 4, 14, 885, 3, 112, 531, 11, 419, 63, 680, 2, 796, 3, 34, 8, 4, 11, 2, 641, 262, 34, 8, 6, 4, 6, 400, 4, 35, 65, 7, 729, 4, 65, 453, 292, 4, 39, 863, 8, 4, 453, 35, 65, 7, 7, 729, 63, 65, 254, 36, 11, 17, 17, 744, 2, 498, 17, 17, 6, 216, 275, 130, 11, 764, 96, 7, 11, 729, 11, 797, 1, 63, 251, 84, 8, 162, 787, 3, 798, 1, 514, 30, 479, 3, 192, 7, 4, 35, 11, 2, 1, 142, 729, 498, 530, 59, 729, 498, 530, 59, 368, 3, 2, 7, 498, 530, 11, 729, 729, 530, 59, 8, 912, 98, 13, 2, 11, 2, 834, 224, 14, 3, 926, 4, 11, 2, 7, 729, 11, 25, 2, 530, 787, 11, 225, 3, 712, 112, 34, 2, 132, 530, 541, 729, 4, 2, 498, 370, 21, 2, 498, 530, 787, 7, 543, 2, 498, 530, 787, 143, 368, 27, 47, 270, 276, 4, 7, 543, 2, 729, 498, 530, 59, 270, 14, 27, 72, 144, 787, 843, 1, 4, 2, 1, 811, 133, 30, 8, 693, 526, 115, 105, 595, 729, 498, 59, 1, 729, 498, 530, 59, 291, 25, 301, 3, 981, 7, 216, 707, 1, 77, 301, 1, 341, 6, 65, 440, 14, 69, 50, 142, 11, 319, 4, 65, 11, 763, 113, 2, 98, 1, 2, 7, 14, 3, 19, 833, 330, 217, 152, 144, 1, 2, 440, 14, 885, 132, 911, 13, 36, 330, 217, 126, 419, 1, 31, 14, 885, 20, 585, 2, 7, 77, 301, 476, 65, 440, 63, 1, 6, 419, 585, 19, 179, 730, 531, 1, 77, 301, 8, 212, 223, 11, 729, 1, 143, 14, 409, 6, 729, 552, 87, 214, 692, 531, 398, 11, 729, 27, 2, 395, 211, 855, 87, 214, 179, 531, 970, 307, 4, 7, 531, 7, 15, 14, 8, 115, 254, 468, 6, 53, 326, 6, 4, 326, 1, 1, 99, 247, 15, 135, 234, 303, 232, 2, 7, 487, 243, 8, 7, 2, 429, 650, 7, 4, 487, 184, 175, 211, 2, 429, 713, 650, 7, 55, 232, 20, 36, 25, 3, 982, 1, 36, 335, 945, 36, 30, 37, 232, 7, 753, 4, 79, 19, 234, 232, 1, 234, 303, 232, 30, 279, 13, 982, 736, 130, 27, 2, 109, 2, 232, 30, 302, 20, 8, 223, 211, 4, 143, 194, 871, 379, 619, 36, 945, 3, 22, 359, 234, 303, 232, 311, 15, 983, 79, 19, 220, 2, 230, 7, 407, 34, 1, 736, 23, 1, 36, 20, 35, 232, 79, 1, 194, 36, 681, 53, 99, 668, 247, 15, 3, 844, 635, 429, 490, 19, 863, 99, 668, 4, 37, 380, 572, 21, 724, 53, 130, 3, 572, 22, 8, 672, 330, 3, 530, 11, 635, 247, 250, 135, 7, 2, 913, 247, 15, 195, 19, 34, 765, 7, 380, 572, 4, 36, 216, 4, 642, 754, 101, 322, 50, 926, 530, 682, 35, 8, 812, 651, 6, 287, 11, 2, 4, 170, 7, 15, 11, 25, 487, 283, 175, 21, 2, 7, 682, 7, 2, 98, 581, 3, 2, 7, 250, 195, 19, 7, 70, 7, 620, 22, 298, 3, 54, 3, 22, 2, 7, 95, 682, 1, 682, 79, 19, 27, 55, 109, 510, 267, 232, 24, 302, 521, 2, 371, 98, 946, 457, 485, 30, 13, 54, 449, 461, 11, 20, 168, 485, 872, 635, 176, 65, 98, 371, 87, 14, 8, 10, 23, 482, 10, 1, 87, 24, 101, 960, 11, 2, 708, 168, 2, 98, 99, 4, 96, 475, 15, 135, 14, 241, 123, 15, 14, 37, 380, 572, 21, 280, 396, 25, 70, 380, 672, 330, 844, 55, 635, 36, 1], [9, 515, 282, 7, 10, 24, 101, 35, 115, 36, 137, 7, 119, 845, 3, 910, 288, 947, 16, 150, 694, 3, 10, 3, 518, 15, 3, 42, 863, 119, 480, 19, 102, 255, 510, 2, 947, 218, 14, 926, 102, 188, 864, 16, 73, 26, 947, 35, 320, 102, 111, 106, 20, 16, 51, 230, 65, 256, 395, 3, 83, 16, 105, 2, 947, 220, 65, 218, 32, 10, 30, 11, 8, 6, 109, 33, 518, 26, 947, 643, 220, 408, 31, 886, 36, 16, 19, 3, 813, 25, 10, 1, 16, 67, 21, 53, 384, 321, 7, 95, 103, 16, 947, 64, 11, 6, 26]]\n"
     ]
    }
   ],
   "source": [
    "# Verificando o resultado do processo\n",
    "print(X_treino[0:3])"
   ]
  },
  {
   "cell_type": "markdown",
   "id": "66c6a2bb-3326-463d-9822-f0c98453eadf",
   "metadata": {},
   "source": [
    "Como podemos observar, o tamanho dos registros está desigual (uma vez que o tamanho dos e-mails é diferente) e a rede neural precisa de um formato tabular, portanto usaremos o método *pad_sequences* para garantir que o registro tenham o mesmo comprimento."
   ]
  },
  {
   "cell_type": "code",
   "execution_count": 9,
   "id": "be28788b-40f3-497e-a5e8-bcd20a2bd6a5",
   "metadata": {},
   "outputs": [],
   "source": [
    "# Ajustando o tamanho das sequências\n",
    "X_treino = pad_sequences(X_treino, padding=\"post\", maxlen=500)\n",
    "X_teste = pad_sequences(X_teste, padding=\"post\", maxlen=500)"
   ]
  },
  {
   "cell_type": "code",
   "execution_count": 10,
   "id": "c921ce16-49ec-4297-9f1e-77cec09fa3c5",
   "metadata": {},
   "outputs": [],
   "source": [
    "# Transformando em arrays\n",
    "X_treino = np.array(X_treino)\n",
    "y_treino = np.array(y_treino)\n",
    "X_teste = np.array(X_teste)\n",
    "y_teste = np.array(y_teste)"
   ]
  },
  {
   "cell_type": "markdown",
   "id": "b7227230",
   "metadata": {},
   "source": [
    "### Criação do modelo"
   ]
  },
  {
   "cell_type": "code",
   "execution_count": 11,
   "id": "81f72494",
   "metadata": {},
   "outputs": [],
   "source": [
    "# Iniciando o modelo\n",
    "model = Sequential()\n",
    "\n",
    "# Embedding\n",
    "model.add(Embedding(input_dim=len(token.word_index), # numero de palavras\n",
    "                    output_dim=100, # tamanho do vetor denso\n",
    "                    input_length=len(X_treino[0]) # comprimento das sequências de entrada\n",
    "                   ))\n",
    "\n",
    "# Camada Flatten (NECESSÁRIA para ligar o Emb. ä camada de entrada)\n",
    "model.add(Flatten())\n",
    "model.add(Dense(units=10,activation='relu', kernel_regularizer=regularizers.l2(0.02)))\n",
    "model.add(Dropout(0.5)) \n",
    "model.add(Dense(units=1,activation='sigmoid', kernel_regularizer=regularizers.l2(0.02)))"
   ]
  },
  {
   "cell_type": "code",
   "execution_count": 14,
   "id": "0ff0b507",
   "metadata": {},
   "outputs": [
    {
     "data": {
      "text/html": [
       "<pre style=\"white-space:pre;overflow-x:auto;line-height:normal;font-family:Menlo,'DejaVu Sans Mono',consolas,'Courier New',monospace\"><span style=\"font-weight: bold\">Model: \"sequential\"</span>\n",
       "</pre>\n"
      ],
      "text/plain": [
       "\u001b[1mModel: \"sequential\"\u001b[0m\n"
      ]
     },
     "metadata": {},
     "output_type": "display_data"
    },
    {
     "data": {
      "text/html": [
       "<pre style=\"white-space:pre;overflow-x:auto;line-height:normal;font-family:Menlo,'DejaVu Sans Mono',consolas,'Courier New',monospace\">┏━━━━━━━━━━━━━━━━━━━━━━━━━━━━━━━━━━━━━━┳━━━━━━━━━━━━━━━━━━━━━━━━━━━━━┳━━━━━━━━━━━━━━━━━┓\n",
       "┃<span style=\"font-weight: bold\"> Layer (type)                         </span>┃<span style=\"font-weight: bold\"> Output Shape                </span>┃<span style=\"font-weight: bold\">         Param # </span>┃\n",
       "┡━━━━━━━━━━━━━━━━━━━━━━━━━━━━━━━━━━━━━━╇━━━━━━━━━━━━━━━━━━━━━━━━━━━━━╇━━━━━━━━━━━━━━━━━┩\n",
       "│ embedding (<span style=\"color: #0087ff; text-decoration-color: #0087ff\">Embedding</span>)                │ (<span style=\"color: #00d7ff; text-decoration-color: #00d7ff\">None</span>, <span style=\"color: #00af00; text-decoration-color: #00af00\">500</span>, <span style=\"color: #00af00; text-decoration-color: #00af00\">100</span>)            │       <span style=\"color: #00af00; text-decoration-color: #00af00\">4,750,500</span> │\n",
       "├──────────────────────────────────────┼─────────────────────────────┼─────────────────┤\n",
       "│ flatten (<span style=\"color: #0087ff; text-decoration-color: #0087ff\">Flatten</span>)                    │ (<span style=\"color: #00d7ff; text-decoration-color: #00d7ff\">None</span>, <span style=\"color: #00af00; text-decoration-color: #00af00\">50000</span>)               │               <span style=\"color: #00af00; text-decoration-color: #00af00\">0</span> │\n",
       "├──────────────────────────────────────┼─────────────────────────────┼─────────────────┤\n",
       "│ dense (<span style=\"color: #0087ff; text-decoration-color: #0087ff\">Dense</span>)                        │ (<span style=\"color: #00d7ff; text-decoration-color: #00d7ff\">None</span>, <span style=\"color: #00af00; text-decoration-color: #00af00\">10</span>)                  │         <span style=\"color: #00af00; text-decoration-color: #00af00\">500,010</span> │\n",
       "├──────────────────────────────────────┼─────────────────────────────┼─────────────────┤\n",
       "│ dropout (<span style=\"color: #0087ff; text-decoration-color: #0087ff\">Dropout</span>)                    │ (<span style=\"color: #00d7ff; text-decoration-color: #00d7ff\">None</span>, <span style=\"color: #00af00; text-decoration-color: #00af00\">10</span>)                  │               <span style=\"color: #00af00; text-decoration-color: #00af00\">0</span> │\n",
       "├──────────────────────────────────────┼─────────────────────────────┼─────────────────┤\n",
       "│ dense_1 (<span style=\"color: #0087ff; text-decoration-color: #0087ff\">Dense</span>)                      │ (<span style=\"color: #00d7ff; text-decoration-color: #00d7ff\">None</span>, <span style=\"color: #00af00; text-decoration-color: #00af00\">1</span>)                   │              <span style=\"color: #00af00; text-decoration-color: #00af00\">11</span> │\n",
       "└──────────────────────────────────────┴─────────────────────────────┴─────────────────┘\n",
       "</pre>\n"
      ],
      "text/plain": [
       "┏━━━━━━━━━━━━━━━━━━━━━━━━━━━━━━━━━━━━━━┳━━━━━━━━━━━━━━━━━━━━━━━━━━━━━┳━━━━━━━━━━━━━━━━━┓\n",
       "┃\u001b[1m \u001b[0m\u001b[1mLayer (type)                        \u001b[0m\u001b[1m \u001b[0m┃\u001b[1m \u001b[0m\u001b[1mOutput Shape               \u001b[0m\u001b[1m \u001b[0m┃\u001b[1m \u001b[0m\u001b[1m        Param #\u001b[0m\u001b[1m \u001b[0m┃\n",
       "┡━━━━━━━━━━━━━━━━━━━━━━━━━━━━━━━━━━━━━━╇━━━━━━━━━━━━━━━━━━━━━━━━━━━━━╇━━━━━━━━━━━━━━━━━┩\n",
       "│ embedding (\u001b[38;5;33mEmbedding\u001b[0m)                │ (\u001b[38;5;45mNone\u001b[0m, \u001b[38;5;34m500\u001b[0m, \u001b[38;5;34m100\u001b[0m)            │       \u001b[38;5;34m4,750,500\u001b[0m │\n",
       "├──────────────────────────────────────┼─────────────────────────────┼─────────────────┤\n",
       "│ flatten (\u001b[38;5;33mFlatten\u001b[0m)                    │ (\u001b[38;5;45mNone\u001b[0m, \u001b[38;5;34m50000\u001b[0m)               │               \u001b[38;5;34m0\u001b[0m │\n",
       "├──────────────────────────────────────┼─────────────────────────────┼─────────────────┤\n",
       "│ dense (\u001b[38;5;33mDense\u001b[0m)                        │ (\u001b[38;5;45mNone\u001b[0m, \u001b[38;5;34m10\u001b[0m)                  │         \u001b[38;5;34m500,010\u001b[0m │\n",
       "├──────────────────────────────────────┼─────────────────────────────┼─────────────────┤\n",
       "│ dropout (\u001b[38;5;33mDropout\u001b[0m)                    │ (\u001b[38;5;45mNone\u001b[0m, \u001b[38;5;34m10\u001b[0m)                  │               \u001b[38;5;34m0\u001b[0m │\n",
       "├──────────────────────────────────────┼─────────────────────────────┼─────────────────┤\n",
       "│ dense_1 (\u001b[38;5;33mDense\u001b[0m)                      │ (\u001b[38;5;45mNone\u001b[0m, \u001b[38;5;34m1\u001b[0m)                   │              \u001b[38;5;34m11\u001b[0m │\n",
       "└──────────────────────────────────────┴─────────────────────────────┴─────────────────┘\n"
      ]
     },
     "metadata": {},
     "output_type": "display_data"
    },
    {
     "data": {
      "text/html": [
       "<pre style=\"white-space:pre;overflow-x:auto;line-height:normal;font-family:Menlo,'DejaVu Sans Mono',consolas,'Courier New',monospace\"><span style=\"font-weight: bold\"> Total params: </span><span style=\"color: #00af00; text-decoration-color: #00af00\">5,250,521</span> (20.03 MB)\n",
       "</pre>\n"
      ],
      "text/plain": [
       "\u001b[1m Total params: \u001b[0m\u001b[38;5;34m5,250,521\u001b[0m (20.03 MB)\n"
      ]
     },
     "metadata": {},
     "output_type": "display_data"
    },
    {
     "data": {
      "text/html": [
       "<pre style=\"white-space:pre;overflow-x:auto;line-height:normal;font-family:Menlo,'DejaVu Sans Mono',consolas,'Courier New',monospace\"><span style=\"font-weight: bold\"> Trainable params: </span><span style=\"color: #00af00; text-decoration-color: #00af00\">5,250,521</span> (20.03 MB)\n",
       "</pre>\n"
      ],
      "text/plain": [
       "\u001b[1m Trainable params: \u001b[0m\u001b[38;5;34m5,250,521\u001b[0m (20.03 MB)\n"
      ]
     },
     "metadata": {},
     "output_type": "display_data"
    },
    {
     "data": {
      "text/html": [
       "<pre style=\"white-space:pre;overflow-x:auto;line-height:normal;font-family:Menlo,'DejaVu Sans Mono',consolas,'Courier New',monospace\"><span style=\"font-weight: bold\"> Non-trainable params: </span><span style=\"color: #00af00; text-decoration-color: #00af00\">0</span> (0.00 B)\n",
       "</pre>\n"
      ],
      "text/plain": [
       "\u001b[1m Non-trainable params: \u001b[0m\u001b[38;5;34m0\u001b[0m (0.00 B)\n"
      ]
     },
     "metadata": {},
     "output_type": "display_data"
    }
   ],
   "source": [
    "model.compile(loss=\"binary_crossentropy\",\n",
    "              optimizer=\"adam\", \n",
    "              metrics=[\"accuracy\", AUC(name=\"auc\")]) \n",
    "\n",
    "model.summary()"
   ]
  },
  {
   "cell_type": "code",
   "execution_count": 15,
   "id": "5de4c0b9",
   "metadata": {},
   "outputs": [
    {
     "name": "stdout",
     "output_type": "stream",
     "text": [
      "Epoch 1/10\n",
      "\u001b[1m362/362\u001b[0m \u001b[32m━━━━━━━━━━━━━━━━━━━━\u001b[0m\u001b[37m\u001b[0m \u001b[1m13s\u001b[0m 33ms/step - accuracy: 0.7724 - auc: 0.7486 - loss: 0.6534 - val_accuracy: 0.9517 - val_auc: 0.9888 - val_loss: 0.3339\n",
      "Epoch 2/10\n",
      "\u001b[1m362/362\u001b[0m \u001b[32m━━━━━━━━━━━━━━━━━━━━\u001b[0m\u001b[37m\u001b[0m \u001b[1m12s\u001b[0m 32ms/step - accuracy: 0.9295 - auc: 0.9749 - loss: 0.4239 - val_accuracy: 0.9607 - val_auc: 0.9900 - val_loss: 0.3671\n",
      "Epoch 3/10\n",
      "\u001b[1m362/362\u001b[0m \u001b[32m━━━━━━━━━━━━━━━━━━━━\u001b[0m\u001b[37m\u001b[0m \u001b[1m12s\u001b[0m 33ms/step - accuracy: 0.9476 - auc: 0.9869 - loss: 0.3461 - val_accuracy: 0.9439 - val_auc: 0.9902 - val_loss: 0.2846\n",
      "Epoch 4/10\n",
      "\u001b[1m362/362\u001b[0m \u001b[32m━━━━━━━━━━━━━━━━━━━━\u001b[0m\u001b[37m\u001b[0m \u001b[1m12s\u001b[0m 33ms/step - accuracy: 0.9503 - auc: 0.9893 - loss: 0.3195 - val_accuracy: 0.9581 - val_auc: 0.9905 - val_loss: 0.4344\n",
      "Epoch 5/10\n",
      "\u001b[1m362/362\u001b[0m \u001b[32m━━━━━━━━━━━━━━━━━━━━\u001b[0m\u001b[37m\u001b[0m \u001b[1m12s\u001b[0m 33ms/step - accuracy: 0.9463 - auc: 0.9827 - loss: 0.4509 - val_accuracy: 0.9659 - val_auc: 0.9953 - val_loss: 0.2355\n",
      "Epoch 6/10\n",
      "\u001b[1m362/362\u001b[0m \u001b[32m━━━━━━━━━━━━━━━━━━━━\u001b[0m\u001b[37m\u001b[0m \u001b[1m12s\u001b[0m 33ms/step - accuracy: 0.9606 - auc: 0.9912 - loss: 0.2971 - val_accuracy: 0.9665 - val_auc: 0.9945 - val_loss: 0.2265\n",
      "Epoch 7/10\n",
      "\u001b[1m362/362\u001b[0m \u001b[32m━━━━━━━━━━━━━━━━━━━━\u001b[0m\u001b[37m\u001b[0m \u001b[1m12s\u001b[0m 33ms/step - accuracy: 0.9598 - auc: 0.9907 - loss: 0.2920 - val_accuracy: 0.9639 - val_auc: 0.9937 - val_loss: 0.2221\n",
      "Epoch 8/10\n",
      "\u001b[1m362/362\u001b[0m \u001b[32m━━━━━━━━━━━━━━━━━━━━\u001b[0m\u001b[37m\u001b[0m \u001b[1m12s\u001b[0m 33ms/step - accuracy: 0.9684 - auc: 0.9942 - loss: 0.2361 - val_accuracy: 0.9646 - val_auc: 0.9942 - val_loss: 0.2859\n",
      "Epoch 9/10\n",
      "\u001b[1m362/362\u001b[0m \u001b[32m━━━━━━━━━━━━━━━━━━━━\u001b[0m\u001b[37m\u001b[0m \u001b[1m12s\u001b[0m 33ms/step - accuracy: 0.9645 - auc: 0.9934 - loss: 0.2994 - val_accuracy: 0.9613 - val_auc: 0.9942 - val_loss: 0.2622\n",
      "Epoch 10/10\n",
      "\u001b[1m362/362\u001b[0m \u001b[32m━━━━━━━━━━━━━━━━━━━━\u001b[0m\u001b[37m\u001b[0m \u001b[1m12s\u001b[0m 33ms/step - accuracy: 0.9610 - auc: 0.9924 - loss: 0.3165 - val_accuracy: 0.9691 - val_auc: 0.9944 - val_loss: 0.2866\n"
     ]
    },
    {
     "data": {
      "text/plain": [
       "<keras.src.callbacks.history.History at 0x21a02312480>"
      ]
     },
     "execution_count": 15,
     "metadata": {},
     "output_type": "execute_result"
    }
   ],
   "source": [
    "# Definindo a parada adiantada (interrompe o treinamento se 'val_loss' não melhorar nas últimas 5 épocas, restaurando os melhores pesos)\n",
    "early_stopping = EarlyStopping(monitor='val_loss', patience=5, restore_best_weights=True)\n",
    "\n",
    "# Treinando a rede neural\n",
    "model.fit(X_treino,\n",
    "          y_treino,\n",
    "          epochs=10,\n",
    "          batch_size=10,\n",
    "          verbose=True,\n",
    "          validation_data=(X_teste, y_teste))"
   ]
  },
  {
   "cell_type": "markdown",
   "id": "d998f4a1",
   "metadata": {},
   "source": [
    "### Avaliação de Performance"
   ]
  },
  {
   "cell_type": "code",
   "execution_count": 16,
   "id": "a230e2c0",
   "metadata": {},
   "outputs": [
    {
     "name": "stdout",
     "output_type": "stream",
     "text": [
      "\u001b[1m49/49\u001b[0m \u001b[32m━━━━━━━━━━━━━━━━━━━━\u001b[0m\u001b[37m\u001b[0m \u001b[1m0s\u001b[0m 3ms/step - accuracy: 0.9711 - auc: 0.9953 - loss: 0.2801\n",
      "\n",
      "Loss: 28.66\n",
      "Acurácia: 96.91\n",
      "Área sob a curva ROC: 99.44\n"
     ]
    }
   ],
   "source": [
    "# Avaliando desempenho\n",
    "loss, accuracy, roc = model.evaluate(X_teste, y_teste)\n",
    "print(f\"\\nLoss:\", round(((loss)*100),2))\n",
    "print(\"Acurácia:\", round(((accuracy)*100),2))\n",
    "print(\"Área sob a curva ROC:\", round(((roc)*100),2))"
   ]
  },
  {
   "cell_type": "code",
   "execution_count": 17,
   "id": "6d39e917",
   "metadata": {},
   "outputs": [
    {
     "name": "stdout",
     "output_type": "stream",
     "text": [
      "\u001b[1m49/49\u001b[0m \u001b[32m━━━━━━━━━━━━━━━━━━━━\u001b[0m\u001b[37m\u001b[0m \u001b[1m0s\u001b[0m 3ms/step\n"
     ]
    }
   ],
   "source": [
    "# Realizando previsoes\n",
    "prev = model.predict(X_teste)"
   ]
  },
  {
   "cell_type": "code",
   "execution_count": 18,
   "id": "18169ecf",
   "metadata": {},
   "outputs": [
    {
     "data": {
      "image/png": "[encoded data removed]",
      "text/plain": [
       "<Figure size 500x500 with 1 Axes>"
      ]
     },
     "metadata": {},
     "output_type": "display_data"
    }
   ],
   "source": [
    "# Área sob a curva roc\n",
    "fpr, tpr, thresholds = roc_curve(y_teste, prev)\n",
    "roc_auc = auc(fpr, tpr)\n",
    "\n",
    "\n",
    "plt.figure(figsize=(5,5))\n",
    "plt.plot(fpr,tpr)\n",
    "plt.plot(fpr,fpr, color='gray')\n",
    "plt.title(f\"Area Under ROC curve: {round(((roc)*100),2)}\", fontsize=13)\n",
    "plt.xlabel(\"Specificity\", fontsize=10)\n",
    "plt.ylabel(\"Sensitivity\", fontsize=10)\n",
    "plt.show()"
   ]
  },
  {
   "cell_type": "markdown",
   "id": "75ebd1e7",
   "metadata": {},
   "source": [
    "O modelo de redes neurais com embedding apresentou uma área sob a curva roc de 0.994 (ou 99,4%). \n",
    "Esse valor indica uma performance excelente para distinguir entre spams e e-mail válidos."
   ]
  }
 ],
 "metadata": {
  "kernelspec": {
   "display_name": "Projeto NLP",
   "language": "python",
   "name": "nlp"
  },
  "language_info": {
   "codemirror_mode": {
    "name": "ipython",
    "version": 3
   },
   "file_extension": ".py",
   "mimetype": "text/x-python",
   "name": "python",
   "nbconvert_exporter": "python",
   "pygments_lexer": "ipython3",
   "version": "3.12.5"
  }
 },
 "nbformat": 4,
 "nbformat_minor": 5
}
