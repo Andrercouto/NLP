{
 "cells": [
  {
   "attachments": {
    "image.png": {
     "image/png": "[encoded data removed]"
    }
   },
   "cell_type": "markdown",
   "id": "8ae4943d",
   "metadata": {},
   "source": [
    "# Spacy\n",
    "\n",
    "O Spacy, por ser uma biblioteca recente, já conta com uma série de processamentos automaticos.\n",
    "\n",
    "![image.png](attachment:image.png)"
   ]
  },
  {
   "cell_type": "raw",
   "id": "46b50ba5",
   "metadata": {},
   "source": [
    "Necessário installar:\n",
    "\n",
    "pip install spacy\n",
    "python -m spacy download pt_core_news_lg\n",
    "python -m spacy download en_core_web_lg"
   ]
  },
  {
   "cell_type": "markdown",
   "id": "1708068d",
   "metadata": {},
   "source": [
    "### Bibliotecas"
   ]
  },
  {
   "cell_type": "code",
   "execution_count": 147,
   "id": "c54930e0",
   "metadata": {},
   "outputs": [],
   "source": [
    "import spacy\n",
    "from spacy.matcher import Matcher\n",
    "import warnings\n",
    "import pandas as pd\n",
    "\n",
    "warnings.filterwarnings('ignore')"
   ]
  },
  {
   "cell_type": "markdown",
   "id": "ac1b343e",
   "metadata": {},
   "source": [
    "***\n",
    "\n",
    "### Aprendizado Básico"
   ]
  },
  {
   "cell_type": "code",
   "execution_count": 148,
   "id": "66378e81",
   "metadata": {},
   "outputs": [],
   "source": [
    "# Carregando o modelo\n",
    "nlp = spacy.load('pt_core_news_lg')"
   ]
  },
  {
   "cell_type": "code",
   "execution_count": 149,
   "id": "fd4af297",
   "metadata": {},
   "outputs": [
    {
     "name": "stdout",
     "output_type": "stream",
     "text": [
      "<class 'spacy.lang.pt.Portuguese'>\n"
     ]
    }
   ],
   "source": [
    "# Tipo\n",
    "print(type(nlp))"
   ]
  },
  {
   "cell_type": "code",
   "execution_count": 150,
   "id": "182de896",
   "metadata": {},
   "outputs": [
    {
     "data": {
      "text/plain": [
       "['tok2vec', 'morphologizer', 'parser', 'attribute_ruler', 'lemmatizer', 'ner']"
      ]
     },
     "execution_count": 150,
     "metadata": {},
     "output_type": "execute_result"
    }
   ],
   "source": [
    "# Pipeline padrão\n",
    "nlp.pipe_names"
   ]
  },
  {
   "cell_type": "markdown",
   "id": "7a88f275",
   "metadata": {},
   "source": [
    "- **tok2vec**: Converte tokens em vetores numéricos.\n",
    "- **morphologizer**: Identifica informações gramaticais dos tokens.\n",
    "- **parser**: Analisa a estrutura gramatical das frases.\n",
    "- **attribute_ruler**: Ajusta atributos dos tokens com base em regras.\n",
    "- **lemmatizer**: Gera os lemmas das palavras.\n",
    "- **ner**: Reconhecimento de entidades nomeadas."
   ]
  },
  {
   "cell_type": "code",
   "execution_count": 151,
   "id": "9251c70f",
   "metadata": {},
   "outputs": [],
   "source": [
    "# Criando o Documento\n",
    "documento = nlp(\"Foi com emoção, mas o Botafogo está classificado para as quartas de final da Libertadores e o sonho da conquista inédita da Glória Eterna segue mais do que vivo. O Alvinegro empatou com o Palmeiras em 2 a 2 e avançou na competição.\")\n",
    "documento2 = nlp(\"Alegações extraordinárias exigem evidências extraordinárias. Carl Sagan: 'https://carlsagan.com'\")"
   ]
  },
  {
   "cell_type": "code",
   "execution_count": 152,
   "id": "4c04f2c3",
   "metadata": {},
   "outputs": [
    {
     "data": {
      "text/plain": [
       "390"
      ]
     },
     "execution_count": 152,
     "metadata": {},
     "output_type": "execute_result"
    }
   ],
   "source": [
    "# Tamanho do documento\n",
    "len(documento.vocab)"
   ]
  },
  {
   "cell_type": "code",
   "execution_count": 153,
   "id": "0ce54b63",
   "metadata": {},
   "outputs": [
    {
     "name": "stdout",
     "output_type": "stream",
     "text": [
      "<class 'spacy.tokens.doc.Doc'>\n"
     ]
    }
   ],
   "source": [
    "# Tipo\n",
    "print(type(documento))"
   ]
  },
  {
   "cell_type": "markdown",
   "id": "cfc2a77d",
   "metadata": {},
   "source": [
    "No Spacy, os tokens são classificados em hashs únicos, e isso fica armazenado no formulário. E na criação do token, não é apenas realizada a separação das \"palavras\", mas a identificação se é pontuação, *stop-word*, etc."
   ]
  },
  {
   "cell_type": "code",
   "execution_count": 154,
   "id": "297b2c38",
   "metadata": {},
   "outputs": [
    {
     "name": "stdout",
     "output_type": "stream",
     "text": [
      "Foi\n",
      "com\n",
      "emoção\n",
      ",\n",
      "mas\n",
      "o\n",
      "Botafogo\n",
      "está\n",
      "classificado\n",
      "para\n",
      "as\n",
      "quartas\n",
      "de\n",
      "final\n",
      "da\n",
      "Libertadores\n",
      "e\n",
      "o\n",
      "sonho\n",
      "da\n",
      "conquista\n",
      "inédita\n",
      "da\n",
      "Glória\n",
      "Eterna\n",
      "segue\n",
      "mais\n",
      "do\n",
      "que\n",
      "vivo\n",
      ".\n",
      "O\n",
      "Alvinegro\n",
      "empatou\n",
      "com\n",
      "o\n",
      "Palmeiras\n",
      "em\n",
      "2\n",
      "a\n",
      "2\n",
      "e\n",
      "avançou\n",
      "na\n",
      "competição\n",
      ".\n"
     ]
    }
   ],
   "source": [
    "for token in documento:\n",
    "    print(token.text)"
   ]
  },
  {
   "cell_type": "markdown",
   "id": "3269edea",
   "metadata": {},
   "source": [
    "***\n",
    "\n",
    "### Classificação"
   ]
  },
  {
   "cell_type": "code",
   "execution_count": 155,
   "id": "aeb2e355",
   "metadata": {},
   "outputs": [
    {
     "name": "stdout",
     "output_type": "stream",
     "text": [
      "Tokens:  ['Foi', 'com', 'emoção', ',', 'mas', 'o', 'Botafogo', 'está', 'classificado', 'para', 'as', 'quartas', 'de', 'final', 'da', 'Libertadores', 'e', 'o', 'sonho', 'da', 'conquista', 'inédita', 'da', 'Glória', 'Eterna', 'segue', 'mais', 'do', 'que', 'vivo', '.', 'O', 'Alvinegro', 'empatou', 'com', 'o', 'Palmeiras', 'em', '2', 'a', '2', 'e', 'avançou', 'na', 'competição', '.'] \n",
      "\n",
      "Stop Word:  [True, True, False, False, True, True, False, True, False, True, True, False, True, True, True, False, True, True, False, True, False, False, True, False, False, True, True, True, True, False, False, True, False, False, True, True, False, True, False, True, False, True, False, True, False, False] \n",
      "\n",
      "Alfa numérico:  [True, True, True, False, True, True, True, True, True, True, True, True, True, True, True, True, True, True, True, True, True, True, True, True, True, True, True, True, True, True, False, True, True, True, True, True, True, True, False, True, False, True, True, True, True, False] \n",
      "\n",
      "Maiúsculo:  [False, False, False, False, False, False, False, False, False, False, False, False, False, False, False, False, False, False, False, False, False, False, False, False, False, False, False, False, False, False, False, True, False, False, False, False, False, False, False, False, False, False, False, False, False, False] \n",
      "\n",
      "Pontuação:  [False, False, False, True, False, False, False, False, False, False, False, False, False, False, False, False, False, False, False, False, False, False, False, False, False, False, False, False, False, False, True, False, False, False, False, False, False, False, False, False, False, False, False, False, False, True] \n",
      "\n",
      "Número:  [False, False, False, False, False, False, False, False, False, False, False, False, False, False, False, False, False, False, False, False, False, False, False, False, False, False, False, False, False, False, False, False, False, False, False, False, False, False, True, False, True, False, False, False, False, False] \n",
      "\n",
      "Sentença Inicial:  [True, False, False, False, False, False, False, False, False, False, False, False, False, False, False, False, False, False, False, False, False, False, False, False, False, False, False, False, False, False, False, True, False, False, False, False, False, False, False, False, False, False, False, False, False, False] \n",
      "\n"
     ]
    }
   ],
   "source": [
    "# Verificando atributos\n",
    "\n",
    "print('Tokens: ',[token.text for token in documento],'\\n')\n",
    "\n",
    "print('Stop Word: ',[token.is_stop for token in documento],'\\n')\n",
    "\n",
    "print('Alfa numérico: ',[token.is_alpha for token in documento],'\\n')\n",
    "\n",
    "print('Maiúsculo: ',[token.is_upper for token in documento],'\\n')\n",
    "\n",
    "print('Pontuação: ',[token.is_punct for token in documento],'\\n')\n",
    "\n",
    "print('Número: ',[token.like_num for token in documento],'\\n')\n",
    "\n",
    "print('Sentença Inicial: ',[token.is_sent_start for token in documento],'\\n')"
   ]
  },
  {
   "cell_type": "code",
   "execution_count": 156,
   "id": "75c7a961",
   "metadata": {},
   "outputs": [
    {
     "name": "stdout",
     "output_type": "stream",
     "text": [
      "Tokens:  ['Foi', 'com', 'emoção', ',', 'mas', 'o', 'Botafogo', 'está', 'classificado', 'para', 'as', 'quartas', 'de', 'final', 'da', 'Libertadores', 'e', 'o', 'sonho', 'da', 'conquista', 'inédita', 'da', 'Glória', 'Eterna', 'segue', 'mais', 'do', 'que', 'vivo', '.', 'O', 'Alvinegro', 'empatou', 'com', 'o', 'Palmeiras', 'em', '2', 'a', '2', 'e', 'avançou', 'na', 'competição', '.'] \n",
      "\n",
      "Formato:  ['Xxx', 'xxx', 'xxxx', ',', 'xxx', 'x', 'Xxxxx', 'xxxx', 'xxxx', 'xxxx', 'xx', 'xxxx', 'xx', 'xxxx', 'xx', 'Xxxxx', 'x', 'x', 'xxxx', 'xx', 'xxxx', 'xxxx', 'xx', 'Xxxxx', 'Xxxxx', 'xxxx', 'xxxx', 'xx', 'xxx', 'xxxx', '.', 'X', 'Xxxxx', 'xxxx', 'xxx', 'x', 'Xxxxx', 'xx', 'd', 'x', 'd', 'x', 'xxxx', 'xx', 'xxxx', '.'] \n",
      "\n"
     ]
    }
   ],
   "source": [
    "# Verificando atributos\n",
    "\n",
    "print('Tokens: ',[token.text for token in documento],'\\n')\n",
    "\n",
    "print('Formato: ',[token.shape_ for token in documento],'\\n')"
   ]
  },
  {
   "cell_type": "code",
   "execution_count": 157,
   "id": "f39c8ae2",
   "metadata": {},
   "outputs": [
    {
     "name": "stdout",
     "output_type": "stream",
     "text": [
      "Pontuação encontrada: ,\n",
      "Pontuação encontrada: .\n",
      "Número encontrado: 2\n",
      "Número encontrado: 2\n",
      "Pontuação encontrada: .\n"
     ]
    }
   ],
   "source": [
    "# Buscando elementos específicos\n",
    "\n",
    "for token in documento:\n",
    "    if token.like_num:\n",
    "        print(f'Número encontrado: {token.text}')\n",
    "    if token.is_punct:\n",
    "        print(f'Pontuação encontrada: {token.text}')"
   ]
  },
  {
   "cell_type": "markdown",
   "id": "84e89629",
   "metadata": {},
   "source": [
    "#### Resumo\n",
    "\n",
    "O Spacy possui diversas formas de categorizar as palavras.\n",
    "\n",
    "- is_stop: verifica se o token é uma *stop word*\n",
    "\n",
    "- is_alpha: verifica se o token é baseado em caracteres alfa-numéricos\n",
    "\n",
    "- is_upper: verifica se o token é composto *apenas* por caractéres maiúsculos\n",
    "\n",
    "- is_punct: verifica se é pontuação\n",
    "\n",
    "- like_num: verifica se é um número\n",
    "\n",
    "- is_sent_start: verifica se é o ínicio de sentença\n",
    "\n",
    "- shape_ : indicam o padrão de capitalização e de caracteres de cada palavra"
   ]
  },
  {
   "cell_type": "markdown",
   "id": "ef9d9228",
   "metadata": {},
   "source": [
    "***\n",
    "\n",
    "### Part of Speech"
   ]
  },
  {
   "cell_type": "markdown",
   "id": "191ed0a3",
   "metadata": {},
   "source": [
    "#### Rótulos POS que o spaCy e seus significados:\n",
    "\n",
    "- ADJ: Adjetivo\n",
    "- ADP: Preposição ou postposição\n",
    "- ADV: Advérbio\n",
    "- AUX: Verbo auxiliar\n",
    "- CCONJ: Conjunção coordenativa\n",
    "- DET: Determinante\n",
    "- NOUN: Substantivo\n",
    "- NUM: Número\n",
    "- PART: Partícula\n",
    "- PRON: Pronome\n",
    "- PROPN: Nome próprio\n",
    "- PUNCT: Pontuação\n",
    "- SCONJ: Conjunção subordinativa\n",
    "- SYM: Símbolo\n",
    "- VERB: Verbo\n",
    "- X: Desconhecido ou não categorizado"
   ]
  },
  {
   "cell_type": "code",
   "execution_count": 158,
   "id": "c2eaa754",
   "metadata": {},
   "outputs": [
    {
     "data": {
      "text/html": [
       "<div>\n",
       "<style scoped>\n",
       "    .dataframe tbody tr th:only-of-type {\n",
       "        vertical-align: middle;\n",
       "    }\n",
       "\n",
       "    .dataframe tbody tr th {\n",
       "        vertical-align: top;\n",
       "    }\n",
       "\n",
       "    .dataframe thead th {\n",
       "        text-align: right;\n",
       "    }\n",
       "</style>\n",
       "<table border=\"1\" class=\"dataframe\">\n",
       "  <thead>\n",
       "    <tr style=\"text-align: right;\">\n",
       "      <th></th>\n",
       "      <th>pos_</th>\n",
       "      <th>dep_</th>\n",
       "      <th>lemma_</th>\n",
       "      <th>shape_</th>\n",
       "    </tr>\n",
       "  </thead>\n",
       "  <tbody>\n",
       "    <tr>\n",
       "      <th>Foi</th>\n",
       "      <td>SCONJ</td>\n",
       "      <td>cop</td>\n",
       "      <td>Foi</td>\n",
       "      <td>Xxx</td>\n",
       "    </tr>\n",
       "    <tr>\n",
       "      <th>com</th>\n",
       "      <td>ADP</td>\n",
       "      <td>case</td>\n",
       "      <td>com</td>\n",
       "      <td>xxx</td>\n",
       "    </tr>\n",
       "    <tr>\n",
       "      <th>emoção</th>\n",
       "      <td>NOUN</td>\n",
       "      <td>obl</td>\n",
       "      <td>emoção</td>\n",
       "      <td>xxxx</td>\n",
       "    </tr>\n",
       "    <tr>\n",
       "      <th>,</th>\n",
       "      <td>PUNCT</td>\n",
       "      <td>punct</td>\n",
       "      <td>,</td>\n",
       "      <td>,</td>\n",
       "    </tr>\n",
       "    <tr>\n",
       "      <th>mas</th>\n",
       "      <td>CCONJ</td>\n",
       "      <td>cc</td>\n",
       "      <td>mas</td>\n",
       "      <td>xxx</td>\n",
       "    </tr>\n",
       "    <tr>\n",
       "      <th>o</th>\n",
       "      <td>DET</td>\n",
       "      <td>det</td>\n",
       "      <td>o</td>\n",
       "      <td>x</td>\n",
       "    </tr>\n",
       "    <tr>\n",
       "      <th>Botafogo</th>\n",
       "      <td>PROPN</td>\n",
       "      <td>nsubj</td>\n",
       "      <td>Botafogo</td>\n",
       "      <td>Xxxxx</td>\n",
       "    </tr>\n",
       "    <tr>\n",
       "      <th>está</th>\n",
       "      <td>AUX</td>\n",
       "      <td>cop</td>\n",
       "      <td>estar</td>\n",
       "      <td>xxxx</td>\n",
       "    </tr>\n",
       "    <tr>\n",
       "      <th>classificado</th>\n",
       "      <td>ADJ</td>\n",
       "      <td>conj</td>\n",
       "      <td>classificar</td>\n",
       "      <td>xxxx</td>\n",
       "    </tr>\n",
       "    <tr>\n",
       "      <th>para</th>\n",
       "      <td>ADP</td>\n",
       "      <td>case</td>\n",
       "      <td>parir</td>\n",
       "      <td>xxxx</td>\n",
       "    </tr>\n",
       "  </tbody>\n",
       "</table>\n",
       "</div>"
      ],
      "text/plain": [
       "               pos_   dep_       lemma_ shape_\n",
       "Foi           SCONJ    cop          Foi    Xxx\n",
       "com             ADP   case          com    xxx\n",
       "emoção         NOUN    obl       emoção   xxxx\n",
       ",             PUNCT  punct            ,      ,\n",
       "mas           CCONJ     cc          mas    xxx\n",
       "o               DET    det            o      x\n",
       "Botafogo      PROPN  nsubj     Botafogo  Xxxxx\n",
       "está            AUX    cop        estar   xxxx\n",
       "classificado    ADJ   conj  classificar   xxxx\n",
       "para            ADP   case        parir   xxxx"
      ]
     },
     "execution_count": 158,
     "metadata": {},
     "output_type": "execute_result"
    }
   ],
   "source": [
    "# Part of speech\n",
    "\n",
    "df_pos = pd.DataFrame(columns=['pos_', 'dep_', 'lemma_', 'shape_'])\n",
    "\n",
    "for token in documento:\n",
    "    df_pos.loc[token.text] = [token.pos_, token.dep_, token.lemma_, token.shape_]\n",
    "    \n",
    "df_pos.head(10)"
   ]
  },
  {
   "cell_type": "code",
   "execution_count": 159,
   "id": "36cf1c85",
   "metadata": {},
   "outputs": [
    {
     "name": "stdout",
     "output_type": "stream",
     "text": [
      "Foi -  \n",
      "\n",
      "com -  \n",
      "\n",
      "emoção - Gender=Fem|Number=Sing \n",
      "\n",
      ", -  \n",
      "\n",
      "mas -  \n",
      "\n",
      "o - Definite=Def|Gender=Masc|Number=Sing|PronType=Art \n",
      "\n",
      "Botafogo - Gender=Masc|Number=Sing \n",
      "\n",
      "está - Mood=Ind|Number=Sing|Person=3|Tense=Pres|VerbForm=Fin \n",
      "\n",
      "classificado - Gender=Masc|Number=Sing \n",
      "\n",
      "para -  \n",
      "\n"
     ]
    }
   ],
   "source": [
    "# Classificação morfológica das palacras\n",
    "for token in documento[0:10]:\n",
    "    print(token.text, '-' ,token.morph, f'\\n')"
   ]
  },
  {
   "cell_type": "markdown",
   "id": "a473c261",
   "metadata": {},
   "source": [
    "#### Resumo:\n",
    "\n",
    "- pos_: representa a categoria gramatical do token, como substantivo, verbo, adjetivo, etc.\n",
    "- dep_: indica a função gramatical do token na frase e como ele se relaciona com outros tokens.\n",
    "- lemma_: mostra a forma básica ou canônica do token, que é a versão \"dicionarizada\" da palavra (superior ao stem)\n",
    "- morph: fornece informações sobre as características gramaticais do token, como gênero, número, etc."
   ]
  },
  {
   "cell_type": "markdown",
   "id": "c133c27d",
   "metadata": {},
   "source": [
    "***\n",
    "### Entidades Nomeadas\n",
    "\n",
    "principais entidades nomeadas que o spaCy é capaz de identificar:\n",
    "\n",
    "- PERSON: Pessoas, incluindo nomes próprios.\n",
    "- NORP: Grupos nacionais, religiosos, políticos (ex: brasileiros, cristãos).\n",
    "- FAC: Edifícios, aeroportos, rodovias, pontes, etc.\n",
    "- ORG: Organizações, como empresas, agências governamentais, partidos.\n",
    "- GPE: Locais geopolíticos, como países, cidades, estados.\n",
    "- LOC: Locais que não são GPEs, como montanhas, rios, regiões.\n",
    "- PRODUCT: Objetos, veículos, comidas, etc. (não serviços).\n",
    "- MISC: Slogan ou expressão que não se encaixa em categorias tradicionais, por isso"
   ]
  },
  {
   "cell_type": "code",
   "execution_count": 160,
   "id": "589f24f0",
   "metadata": {},
   "outputs": [
    {
     "name": "stdout",
     "output_type": "stream",
     "text": [
      "Botafogo - ORG\n",
      "Libertadores - MISC\n",
      "Glória Eterna - MISC\n",
      "Alvinegro - ORG\n",
      "Palmeiras - ORG\n"
     ]
    }
   ],
   "source": [
    "# Veridicando entidades nomeadas\n",
    "for ent in documento.ents:\n",
    "    print(ent.text, '-', ent.label_)"
   ]
  },
  {
   "cell_type": "markdown",
   "id": "e080acb1",
   "metadata": {},
   "source": [
    "***\n",
    "### Lidando com Stop-words\n",
    "\n",
    "Stop-words são palavras sem valor semântico, ou, de forma geral palavras vazias. É uma boa prática realizar a retirada dessas palavras."
   ]
  },
  {
   "cell_type": "code",
   "execution_count": 161,
   "id": "5e11ae8b",
   "metadata": {},
   "outputs": [
    {
     "name": "stdout",
     "output_type": "stream",
     "text": [
      "Stop Word: Foi\n",
      "Stop Word: com\n",
      "Stop Word: mas\n",
      "Stop Word: o\n",
      "Stop Word: está\n",
      "Stop Word: para\n",
      "Stop Word: as\n",
      "Stop Word: de\n",
      "Stop Word: final\n",
      "Stop Word: da\n",
      "Stop Word: e\n",
      "Stop Word: o\n",
      "Stop Word: da\n",
      "Stop Word: da\n",
      "Stop Word: segue\n",
      "Stop Word: mais\n",
      "Stop Word: do\n",
      "Stop Word: que\n",
      "Stop Word: O\n",
      "Stop Word: com\n",
      "Stop Word: o\n",
      "Stop Word: em\n",
      "Stop Word: a\n",
      "Stop Word: e\n",
      "Stop Word: na\n"
     ]
    }
   ],
   "source": [
    "# Analisando as stop words do texto\n",
    "for token in documento:\n",
    "    if token.is_stop:\n",
    "        print(\"Stop Word:\", token)"
   ]
  },
  {
   "cell_type": "code",
   "execution_count": 162,
   "id": "4242d269",
   "metadata": {},
   "outputs": [
    {
     "data": {
      "text/plain": [
       "'emoção Botafogo classificado quartas Libertadores sonho conquista inédita Glória Eterna vivo Alvinegro empatou Palmeiras 2 2 avançou competição'"
      ]
     },
     "execution_count": 162,
     "metadata": {},
     "output_type": "execute_result"
    }
   ],
   "source": [
    "# Texto sem stopwords e pontuacao\n",
    "texto_sem_stop_word = ' '.join([token.text for token in documento if not token.is_stop and not token.is_punct])\n",
    "\n",
    "texto_sem_stop_word"
   ]
  },
  {
   "cell_type": "code",
   "execution_count": 163,
   "id": "87d1f6b9",
   "metadata": {},
   "outputs": [
    {
     "name": "stdout",
     "output_type": "stream",
     "text": [
      "quieto\n",
      "do\n",
      "vez\n",
      "dezanove\n",
      "podem\n",
      "mesmo\n",
      "aos\n",
      "menos\n",
      "tive\n",
      "quais\n",
      "apoio\n",
      "porquanto\n",
      "numa\n",
      "inclusive\n",
      "demais\n",
      "ontem\n",
      "uma\n",
      "nenhuma\n",
      "cujo\n",
      "qual\n",
      "te\n",
      "teus\n",
      "custa\n",
      "dão\n",
      "eles\n",
      "estivemos\n",
      "tudo\n",
      "atrás\n",
      "lhe\n",
      "próximo\n",
      "cinco\n",
      "vezes\n",
      "deste\n",
      "sistema\n",
      "quanto\n",
      "são\n",
      "sim\n",
      "uns\n",
      "tivestes\n",
      "fazemos\n",
      "sob\n",
      "tanto\n",
      "fez\n",
      "poder\n",
      "ligado\n",
      "às\n",
      "fim\n",
      "povo\n",
      "cima\n",
      "contudo\n",
      "se\n",
      "máximo\n",
      "daquele\n",
      "neste\n",
      "muito\n",
      "seis\n",
      "tal\n",
      "um\n",
      "toda\n",
      "mas\n",
      "novas\n",
      "num\n",
      "esse\n",
      "conhecida\n",
      "favor\n",
      "me\n",
      "baixo\n",
      "primeiro\n",
      "foste\n",
      "valor\n",
      "tente\n",
      "relação\n",
      "faz\n",
      "fostes\n",
      "mês\n",
      "seus\n",
      "vem\n",
      "nível\n",
      "desde\n",
      "estas\n",
      "pela\n",
      "lado\n",
      "desse\n",
      "aquilo\n",
      "inicio\n",
      "vêm\n",
      "sexta\n",
      "sei\n",
      "naquela\n",
      "momento\n",
      "perto\n",
      "está\n",
      "corrente\n",
      "quem\n",
      "dessa\n",
      "debaixo\n",
      "quê\n",
      "somos\n",
      "iniciar\n",
      "o\n",
      "pegar\n",
      "dos\n",
      "sétima\n",
      "contra\n",
      "pelos\n",
      "suas\n",
      "muitos\n",
      "falta\n",
      "boa\n",
      "naquele\n",
      "aqueles\n",
      "aquelas\n",
      "vossa\n",
      "estivestes\n",
      "ser\n",
      "quer\n",
      "minha\n",
      "da\n",
      "com\n",
      "direita\n",
      "ao\n",
      "onze\n",
      "tanta\n",
      "tu\n",
      "irá\n",
      "nossos\n",
      "estado\n",
      "este\n",
      "meu\n",
      "pois\n",
      "embora\n",
      "segundo\n",
      "grande\n",
      "nada\n",
      "pode\n",
      "têm\n",
      "dezassete\n",
      "dezoito\n",
      "certeza\n",
      "oitavo\n",
      "conhecido\n",
      "estou\n",
      "todos\n",
      "ambos\n",
      "no\n",
      "tiveram\n",
      "desta\n",
      "último\n",
      "puderam\n",
      "tarde\n",
      "sétimo\n",
      "duas\n",
      "tentaram\n",
      "apontar\n",
      "possível\n",
      "pouca\n",
      "estive\n",
      "ela\n",
      "agora\n",
      "vos\n",
      "novos\n",
      "sua\n",
      "tendes\n",
      "antes\n",
      "tenho\n",
      "fará\n",
      "nossa\n",
      "fazer\n",
      "treze\n",
      "à\n",
      "nem\n",
      "oito\n",
      "segunda\n",
      "lugar\n",
      "quarta\n",
      "fui\n",
      "ir\n",
      "sabe\n",
      "longe\n",
      "sempre\n",
      "usa\n",
      "foram\n",
      "estão\n",
      "mais\n",
      "quinta\n",
      "des\n",
      "catorze\n",
      "devem\n",
      "ter\n",
      "foi\n",
      "nessa\n",
      "dezasseis\n",
      "nos\n",
      "maiorias\n",
      "caminho\n",
      "quero\n",
      "sete\n",
      "for\n",
      "aquela\n",
      "isso\n",
      "além\n",
      "posição\n",
      "vais\n",
      "ambas\n",
      "essas\n",
      "outra\n",
      "veja\n",
      "meses\n",
      "fazia\n",
      "de\n",
      "novo\n",
      "sexto\n",
      "na\n",
      "vossos\n",
      "você\n",
      "estes\n",
      "meus\n",
      "até\n",
      "nunca\n",
      "cada\n",
      "somente\n",
      "vai\n",
      "fazes\n",
      "acerca\n",
      "temos\n",
      "nossas\n",
      "diante\n",
      "a\n",
      "depois\n",
      "parece\n",
      "obrigada\n",
      "querem\n",
      "comprida\n",
      "talvez\n",
      "bom\n",
      "meio\n",
      "quieta\n",
      "ou\n",
      "zero\n",
      "número\n",
      "cuja\n",
      "então\n",
      "grandes\n",
      "põem\n",
      "tem\n",
      "dizer\n",
      "esses\n",
      "estará\n",
      "vinda\n",
      "daquela\n",
      "qualquer\n",
      "cento\n",
      "deve\n",
      "isto\n",
      "nove\n",
      "diz\n",
      "forma\n",
      "pôde\n",
      "só\n",
      "sou\n",
      "portanto\n",
      "apenas\n",
      "vosso\n",
      "terceira\n",
      "umas\n",
      "cedo\n",
      "deverá\n",
      "partir\n",
      "tiveste\n",
      "teu\n",
      "aquele\n",
      "é\n",
      "vinte\n",
      "põe\n",
      "e\n",
      "as\n",
      "dar\n",
      "nas\n",
      "porém\n",
      "minhas\n",
      "doze\n",
      "tais\n",
      "sobre\n",
      "para\n",
      "tão\n",
      "primeira\n",
      "obrigado\n",
      "és\n",
      "nesse\n",
      "aqui\n",
      "que\n",
      "seria\n",
      "bem\n",
      "ali\n",
      "ele\n",
      "segue\n",
      "ademais\n",
      "alguns\n",
      "dez\n",
      "já\n",
      "teve\n",
      "sois\n",
      "fazeis\n",
      "não\n",
      "vocês\n",
      "também\n",
      "grupo\n",
      "tua\n",
      "nuns\n",
      "tipo\n",
      "algo\n",
      "vossas\n",
      "comprido\n",
      "posso\n",
      "maior\n",
      "outras\n",
      "disso\n",
      "quinto\n",
      "maioria\n",
      "vindo\n",
      "fazem\n",
      "possivelmente\n",
      "faço\n",
      "ainda\n",
      "estiveste\n",
      "dá\n",
      "números\n",
      "todo\n",
      "nova\n",
      "tens\n",
      "era\n",
      "usar\n",
      "estiveram\n",
      "elas\n",
      "como\n",
      "local\n",
      "três\n",
      "por\n",
      "questão\n",
      "tentei\n",
      "nós\n",
      "lá\n",
      "enquanto\n",
      "ora\n",
      "vós\n",
      "dois\n",
      "ponto\n",
      "pelas\n",
      "próprio\n",
      "assim\n",
      "nesta\n",
      "quinze\n",
      "vens\n",
      "poderá\n",
      "exemplo\n",
      "quando\n",
      "esta\n",
      "conselho\n",
      "os\n",
      "pelo\n",
      "algumas\n",
      "tempo\n",
      "mal\n",
      "certamente\n",
      "adeus\n",
      "estás\n",
      "esteve\n",
      "tuas\n",
      "onde\n",
      "saber\n",
      "eu\n",
      "essa\n",
      "tivemos\n",
      "entre\n",
      "bastante\n",
      "vários\n",
      "estar\n",
      "pontos\n",
      "estava\n",
      "porquê\n",
      "mil\n",
      "quarto\n",
      "após\n",
      "eventual\n",
      "logo\n",
      "sem\n",
      "menor\n",
      "aí\n",
      "dentro\n",
      "coisa\n",
      "seu\n",
      "em\n",
      "terceiro\n",
      "todas\n",
      "tentar\n",
      "vão\n",
      "área\n",
      "podia\n",
      "quatro\n",
      "parte\n",
      "outros\n",
      "final\n",
      "breve\n",
      "apoia\n",
      "porque\n",
      "cá\n",
      "nosso\n",
      "fomos\n",
      "através\n",
      "oitava\n",
      "fora\n",
      "próxima\n",
      "das\n",
      "pouco\n",
      "ver\n",
      "dizem\n",
      "geral\n"
     ]
    }
   ],
   "source": [
    "# Verificando a totalidade das stop words\n",
    "for words in nlp.Defaults.stop_words:\n",
    "    print(words)"
   ]
  },
  {
   "cell_type": "code",
   "execution_count": 164,
   "id": "bde4b978",
   "metadata": {},
   "outputs": [],
   "source": [
    "# Adicionando stop words (palavra segue)\n",
    "nlp.Defaults.stop_words.add(\"segue\")\n",
    "nlp.vocab['segue'].is_stop = True"
   ]
  },
  {
   "cell_type": "code",
   "execution_count": 165,
   "id": "2e1d5813",
   "metadata": {},
   "outputs": [
    {
     "name": "stdout",
     "output_type": "stream",
     "text": [
      "Texto Original: Foi com emoção, mas o Botafogo está classificado para as quartas de final da Libertadores e o sonho da conquista inédita da Glória Eterna segue mais do que vivo. O Alvinegro empatou com o Palmeiras em 2 a 2 e avançou na competição. \n",
      "\n",
      "Texto sem stop words: emoção Botafogo classificado quartas Libertadores sonho conquista inédita Glória Eterna vivo Alvinegro empatou Palmeiras 2 2 avançou competição\n"
     ]
    }
   ],
   "source": [
    "# Texto sem stopwords e pontuacao (contando com a nova sw)\n",
    "texto_sem_stop_word = ' '.join([token.text for token in documento if not token.is_stop and not token.is_punct])\n",
    "print('Texto Original:',documento, f'\\n')\n",
    "print('Texto sem stop words:',texto_sem_stop_word)"
   ]
  },
  {
   "cell_type": "markdown",
   "id": "a8b4ccb1",
   "metadata": {},
   "source": [
    "***\n",
    "### Vocabulário e Lexemmas\n",
    "\n",
    "Um lexema é a unidade básica de significado de uma palavra, considerada sua forma canônica ou base. É a representação abstrata de uma palavra que pode ter várias formas ou inflexões, mas que compartilha o mesmo núcleo semântico.\n",
    "\n",
    "no spaCy cada palavra é representada por um Hash.\n"
   ]
  },
  {
   "cell_type": "code",
   "execution_count": 166,
   "id": "e3987f1a",
   "metadata": {},
   "outputs": [
    {
     "name": "stdout",
     "output_type": "stream",
     "text": [
      "Hash: 6013848609874238634\n",
      "Hash: 6013848609874238634\n",
      "String: dados\n"
     ]
    }
   ],
   "source": [
    "# Verificando Hash de uma palavra específica\n",
    "print('Hash:', nlp.vocab.strings['dados'])\n",
    "print('Hash:', documento.vocab.strings['dados'])\n",
    "print('String:', documento.vocab.strings[6013848609874238634])"
   ]
  },
  {
   "cell_type": "code",
   "execution_count": 167,
   "id": "69d82ef9",
   "metadata": {},
   "outputs": [
    {
     "name": "stdout",
     "output_type": "stream",
     "text": [
      "dados - 6013848609874238634 - True - True - False\n"
     ]
    }
   ],
   "source": [
    "# Utilidades do Lexemma\n",
    "lex = nlp.vocab['dados']\n",
    "print(lex.text, '-', lex.orth, '-', lex.is_alpha, '-', lex.is_lower, '-', lex.is_upper)"
   ]
  },
  {
   "cell_type": "markdown",
   "id": "3fadb559",
   "metadata": {},
   "source": [
    "***\n",
    "\n",
    "### Similaridade\n",
    "\n",
    "Em spaCy, a similaridade de palavras é dada pelo contexto e não pela similaridade em termos de caracteres entre elas; e para o uso correto da similaridade é necessário o uso do modelo **large** (já instalado).\n",
    "\n",
    "A similaridade é dada pelo *coseno*, valor entre 0 e 1, se utilizando de uma representação vetorial das palavras, como word embeddings."
   ]
  },
  {
   "cell_type": "code",
   "execution_count": 168,
   "id": "4a7aef90",
   "metadata": {},
   "outputs": [
    {
     "name": "stdout",
     "output_type": "stream",
     "text": [
      "0.6269033401994535\n"
     ]
    }
   ],
   "source": [
    "# Testando a funcao\n",
    "documento_t1 = nlp(\"Ele come carne todos os dias\")\n",
    "documento_t2 = nlp(\"Ele come vegetais constantemente\")\n",
    "print(documento_t1.similarity(documento_t2))"
   ]
  },
  {
   "cell_type": "code",
   "execution_count": 169,
   "id": "4e756544",
   "metadata": {},
   "outputs": [
    {
     "name": "stdout",
     "output_type": "stream",
     "text": [
      "0.9824932425773093\n"
     ]
    }
   ],
   "source": [
    "# Considerando mais palavras iguais\n",
    "documento_t1 = nlp(\"Ele come carne todos os dias\")\n",
    "documento_t2 = nlp(\"Ele come vegetais todos os dias\")\n",
    "print(documento_t1.similarity(documento_t2))"
   ]
  },
  {
   "cell_type": "code",
   "execution_count": 170,
   "id": "61c68370",
   "metadata": {},
   "outputs": [
    {
     "name": "stdout",
     "output_type": "stream",
     "text": [
      "0.6432827337794448\n"
     ]
    }
   ],
   "source": [
    "# Alterando (todos os dias para diariamente)\n",
    "documento_t1 = nlp(\"Ele come carne todos os dias\")\n",
    "documento_t2 = nlp(\"Ele come vegetais diariamente\")\n",
    "print(documento_t1.similarity(documento_t2))"
   ]
  },
  {
   "cell_type": "code",
   "execution_count": 171,
   "id": "40cd5b5a",
   "metadata": {},
   "outputs": [
    {
     "name": "stdout",
     "output_type": "stream",
     "text": [
      "0.9824932466899379\n"
     ]
    }
   ],
   "source": [
    "# Alterando as palavras de forma a nao fazer sentido\n",
    "documento_t1 = nlp(\"Ele come dias os todos carne\")\n",
    "documento_t2 = nlp(\"Ele come vegetais todos os dias\")\n",
    "print(documento_t1.similarity(documento_t2))"
   ]
  },
  {
   "cell_type": "code",
   "execution_count": 172,
   "id": "01dd9151",
   "metadata": {},
   "outputs": [
    {
     "name": "stdout",
     "output_type": "stream",
     "text": [
      "0.9630053639411926\n"
     ]
    }
   ],
   "source": [
    "# Separando a string\n",
    "documento_t3 = nlp(\"Ele pede descrição. Ele pede discrição\")\n",
    "str1 = documento_t3[:3]\n",
    "str2 = documento_t3[4:]\n",
    "print(str1.similarity(str2))"
   ]
  },
  {
   "cell_type": "markdown",
   "id": "399381a6",
   "metadata": {},
   "source": [
    "***\n",
    "\n",
    "### Matcher\n",
    "\n",
    "Identificar padrões dentro de um documento (ou um corpus)."
   ]
  },
  {
   "cell_type": "code",
   "execution_count": 282,
   "id": "f78c61bb",
   "metadata": {},
   "outputs": [],
   "source": [
    "# Inicializando\n",
    "matcher = Matcher(nlp.vocab)"
   ]
  },
  {
   "cell_type": "code",
   "execution_count": 283,
   "id": "f6cbdc25",
   "metadata": {},
   "outputs": [],
   "source": [
    "# Padrao para a identificacao de Telefones\n",
    "padrao = [{\"ORTH\": \"(\"}, # parentese de abertura\n",
    "          {\"SHAPE\": \"dd\"}, # DDD (sem o 0)\n",
    "          {\"ORTH\": \")\"}, # parentese de fechamento\n",
    "          {\"ORTH\": \"-\", \"OP\": \"?\"}, # pode vir qualquer texto apos o parentese\n",
    "          {\"IS_DIGIT\": True}] # busca digitos"
   ]
  },
  {
   "cell_type": "code",
   "execution_count": 284,
   "id": "b432111b",
   "metadata": {},
   "outputs": [],
   "source": [
    "# Adicionando o novo padrao\n",
    "texto_tel = nlp('Pode ligar no numero (24) 998924213 ou no (21) - 989732934')\n",
    "matcher.add('telefone', [padrao])"
   ]
  },
  {
   "cell_type": "code",
   "execution_count": 285,
   "id": "fcb09c0f",
   "metadata": {},
   "outputs": [
    {
     "name": "stdout",
     "output_type": "stream",
     "text": [
      "(24) 998924213\n",
      "(21) - 989732934\n"
     ]
    }
   ],
   "source": [
    "# Encontrando os Matches\n",
    "matches = matcher(texto_tel)\n",
    "for id, inicio, fim in matches:\n",
    "    print(texto_tel[inicio:fim])"
   ]
  },
  {
   "cell_type": "code",
   "execution_count": 286,
   "id": "7b7d5837",
   "metadata": {},
   "outputs": [],
   "source": [
    "# Novos testes\n",
    "texto_tel2 = nlp('Pode ligar no numero (024) 998924213 ou no (41) - 989731423293413')\n",
    "matcher.add('telefone', [padrao])"
   ]
  },
  {
   "cell_type": "code",
   "execution_count": 287,
   "id": "b0faee64",
   "metadata": {},
   "outputs": [
    {
     "name": "stdout",
     "output_type": "stream",
     "text": [
      "(41) - 989731423293413\n"
     ]
    }
   ],
   "source": [
    "# Encontrando os Matches\n",
    "matches = matcher(texto_tel2)\n",
    "for id, inicio, fim in matches:\n",
    "    print(texto_tel2[inicio:fim])"
   ]
  },
  {
   "cell_type": "markdown",
   "id": "39a4ca27",
   "metadata": {},
   "source": [
    "Como podemos observar o segundo numero, que possui mais de 9 digitos foi considerado, e o texto onde a pessoa colocou o 0 junto ao ddd não.\n",
    "\n",
    "Um novo padrão será criado para corrigir esses pontos."
   ]
  },
  {
   "cell_type": "code",
   "execution_count": 292,
   "id": "3e15b0ab",
   "metadata": {},
   "outputs": [],
   "source": [
    "# Inicializando\n",
    "matcher = Matcher(nlp.vocab)"
   ]
  },
  {
   "cell_type": "code",
   "execution_count": 293,
   "id": "f794ec58",
   "metadata": {},
   "outputs": [],
   "source": [
    "# Padrao para a identificacao de Telefones\n",
    "padrao_novo = [{\"ORTH\": \"(\"}, # parentese de abertura\n",
    "          {\"SHAPE\": \"dd\"}, # DDD (sem o 0)\n",
    "          {\"ORTH\": \")\"}, # parentese de fechamento\n",
    "          {\"ORTH\": \"-\", \"OP\": \"?\"}, # pode vir qualquer texto apos o parentese\n",
    "          {\"IS_DIGIT\": True, \"LENGTH\": 9}] # busca digitos\n",
    "\n",
    "# Padrao para a identificacao de Telefones\n",
    "padrao_novo2 = [{\"ORTH\": \"(\"}, # parentese de abertura\n",
    "          {\"SHAPE\": \"ddd\"}, # DDD (sem o 0)\n",
    "          {\"ORTH\": \")\"}, # parentese de fechamento\n",
    "          {\"ORTH\": \"-\", \"OP\": \"?\"}, # pode vir qualquer texto apos o parentese\n",
    "          {\"IS_DIGIT\": True, \"LENGTH\": 9}] # busca digitos"
   ]
  },
  {
   "cell_type": "code",
   "execution_count": 294,
   "id": "97541c80",
   "metadata": {},
   "outputs": [],
   "source": [
    "# Adicionando novo padrao\n",
    "matcher.add('telefone', [padrao_novo, padrao_novo2])\n",
    "\n",
    "# Encontrar os matches\n",
    "matches = matcher(texto_tel2)"
   ]
  },
  {
   "cell_type": "code",
   "execution_count": 295,
   "id": "a243652a",
   "metadata": {},
   "outputs": [
    {
     "name": "stdout",
     "output_type": "stream",
     "text": [
      "(024) 998924213\n"
     ]
    }
   ],
   "source": [
    "# Encontrando os Matches\n",
    "matches = matcher(texto_tel2)\n",
    "for id, inicio, fim in matches:\n",
    "    print(texto_tel2[inicio:fim])"
   ]
  },
  {
   "cell_type": "markdown",
   "id": "1cc8c0e7",
   "metadata": {},
   "source": [
    "Apenas o telefone correto foi considerado.\n",
    "***\n",
    "**Novo exemplo**\n",
    "\n",
    "Dessa vez, buscando dar match em palavras que usualmente são escritas de maneira errada."
   ]
  },
  {
   "cell_type": "code",
   "execution_count": 296,
   "id": "cfa2138a",
   "metadata": {},
   "outputs": [],
   "source": [
    "# Inicializando\n",
    "matcher = Matcher(nlp.vocab)"
   ]
  },
  {
   "cell_type": "code",
   "execution_count": 297,
   "id": "8e240d5a",
   "metadata": {},
   "outputs": [],
   "source": [
    "texto_int = nlp('Durante a intervenção realizada ontem, foi discutido o impacto das políticas públicas na melhoria da infraestrutura urbana. O especialista em políticas públicas destacou que a intervencão foi um passo importante para garantir o desenvolvimento sustentável da região. No entanto, a falta de comunicação adequada entre as partes envolvidas levou a algumas críticas sobre a eficácia da intervencao. A equipe responsável já está trabalhando para corrigir esses problemas e assegurar que futuras intervenções sejam mais bem planejadas e executadas.')"
   ]
  },
  {
   "cell_type": "code",
   "execution_count": 298,
   "id": "8dcd1db2",
   "metadata": {},
   "outputs": [],
   "source": [
    "# Padrao para a identificacao de palavras escritas de forma diferente\n",
    "padrao_1 = [{\"LOWER\": \"intervenção\"}] \n",
    "padrao_2 = [{\"LOWER\": \"intervencao\"}]\n",
    "padrao_3 = [{\"LOWER\": \"intervencão\"}]\n",
    "padrao_4 = [{\"LOWER\": \"intervenções\"}]\n",
    "\n",
    "# Adicionando novo padrao\n",
    "matcher.add('padrao', [padrao_1,padrao_2,padrao_3,padrao_4])"
   ]
  },
  {
   "cell_type": "code",
   "execution_count": 299,
   "id": "c98657ab",
   "metadata": {},
   "outputs": [
    {
     "name": "stdout",
     "output_type": "stream",
     "text": [
      "intervenção\n",
      "intervencão\n",
      "intervencao\n",
      "intervenções\n"
     ]
    }
   ],
   "source": [
    "# Encontrar os matches\n",
    "matches = matcher(texto_int)\n",
    "\n",
    "# Encontrando os Matches\n",
    "matches = matcher(texto_int)\n",
    "for id, inicio, fim in matches:\n",
    "    print(texto_int[inicio:fim])"
   ]
  },
  {
   "cell_type": "code",
   "execution_count": null,
   "id": "d9bd77c1",
   "metadata": {},
   "outputs": [],
   "source": []
  }
 ],
 "metadata": {
  "kernelspec": {
   "display_name": "Python 3",
   "language": "python",
   "name": "python3"
  },
  "language_info": {
   "codemirror_mode": {
    "name": "ipython",
    "version": 3
   },
   "file_extension": ".py",
   "mimetype": "text/x-python",
   "name": "python",
   "nbconvert_exporter": "python",
   "pygments_lexer": "ipython3",
   "version": "3.9.19"
  }
 },
 "nbformat": 4,
 "nbformat_minor": 5
}
