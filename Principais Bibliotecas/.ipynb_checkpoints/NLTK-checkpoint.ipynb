{
 "cells": [
  {
   "attachments": {
    "image-5.png": {
     "image/png": "[encoded data removed]"
    }
   },
   "cell_type": "markdown",
   "id": "d84afd0f",
   "metadata": {},
   "source": [
    "![image-5.png](attachment:image-5.png)\n",
    "\n",
    "O **NLTK** (Natural Language ToolKit) é uma tradicional (mais antiga e uma das mais populares) biblioteca de processamento de linguagem natural do Python.\n",
    "\n",
    "Dentre diversos outros métodos de processamento de linguagem natural, o NLTK possui:\n",
    "\n",
    "- Tokenization;\n",
    "\n",
    "- Stemming;\n",
    "\n",
    "- Tagging;\n",
    "\n",
    "- Parsing;\n",
    "\n",
    "- dentre outros."
   ]
  },
  {
   "cell_type": "markdown",
   "id": "3a00e7ef",
   "metadata": {},
   "source": [
    "### BIbliotecas"
   ]
  },
  {
   "cell_type": "code",
   "execution_count": 61,
   "id": "91b2abeb",
   "metadata": {},
   "outputs": [
    {
     "name": "stderr",
     "output_type": "stream",
     "text": [
      "[nltk_data] Downloading package stopwords to\n",
      "[nltk_data]     C:\\Users\\andrr\\AppData\\Roaming\\nltk_data...\n",
      "[nltk_data]   Package stopwords is already up-to-date!\n",
      "[nltk_data] Downloading package punkt to\n",
      "[nltk_data]     C:\\Users\\andrr\\AppData\\Roaming\\nltk_data...\n",
      "[nltk_data]   Package punkt is already up-to-date!\n",
      "[nltk_data] Downloading package tagsets to\n",
      "[nltk_data]     C:\\Users\\andrr\\AppData\\Roaming\\nltk_data...\n",
      "[nltk_data]   Package tagsets is already up-to-date!\n",
      "[nltk_data] Downloading package wordnet to\n",
      "[nltk_data]     C:\\Users\\andrr\\AppData\\Roaming\\nltk_data...\n",
      "[nltk_data]   Package wordnet is already up-to-date!\n",
      "[nltk_data] Downloading package averaged_perceptron_tagger_eng to\n",
      "[nltk_data]     C:\\Users\\andrr\\AppData\\Roaming\\nltk_data...\n",
      "[nltk_data]   Package averaged_perceptron_tagger_eng is already up-to-\n",
      "[nltk_data]       date!\n",
      "[nltk_data] Downloading package maxent_ne_chunker to\n",
      "[nltk_data]     C:\\Users\\andrr\\AppData\\Roaming\\nltk_data...\n",
      "[nltk_data]   Package maxent_ne_chunker is already up-to-date!\n",
      "[nltk_data] Downloading package words to\n",
      "[nltk_data]     C:\\Users\\andrr\\AppData\\Roaming\\nltk_data...\n",
      "[nltk_data]   Package words is already up-to-date!\n",
      "[nltk_data] Downloading package punkt_tab to\n",
      "[nltk_data]     C:\\Users\\andrr\\AppData\\Roaming\\nltk_data...\n",
      "[nltk_data]   Package punkt_tab is already up-to-date!\n",
      "[nltk_data] Downloading package tagsets_json to\n",
      "[nltk_data]     C:\\Users\\andrr\\AppData\\Roaming\\nltk_data...\n",
      "[nltk_data]   Package tagsets_json is already up-to-date!\n",
      "[nltk_data] Downloading package maxent_ne_chunker_tab to\n",
      "[nltk_data]     C:\\Users\\andrr\\AppData\\Roaming\\nltk_data...\n",
      "[nltk_data]   Unzipping chunkers\\maxent_ne_chunker_tab.zip.\n"
     ]
    }
   ],
   "source": [
    "import nltk\n",
    "import warnings\n",
    "import string\n",
    "import pandas as pd\n",
    "from nltk.corpus import stopwords\n",
    "from nltk.stem import PorterStemmer, WordNetLemmatizer, SnowballStemmer, LancasterStemmer\n",
    "from nltk.tokenize import word_tokenize, sent_tokenize\n",
    "from nltk.tag import pos_tag, pos_tag_sents\n",
    "\n",
    "\n",
    "nltk.download('stopwords')\n",
    "nltk.download('punkt')\n",
    "nltk.download('tagsets')\n",
    "nltk.download('wordnet')\n",
    "nltk.download('averaged_perceptron_tagger_eng')\n",
    "nltk.download('maxent_ne_chunker')\n",
    "nltk.download('words')\n",
    "nltk.download('punkt_tab')\n",
    "nltk.download('tagsets_json')\n",
    "nltk.download('maxent_ne_chunker_tab')\n",
    "\n",
    "warnings.filterwarnings('ignore')"
   ]
  },
  {
   "cell_type": "markdown",
   "id": "87c260af",
   "metadata": {},
   "source": [
    "***\n",
    "\n",
    "### Noções Básicas"
   ]
  },
  {
   "cell_type": "code",
   "execution_count": 2,
   "id": "7bd74bb0",
   "metadata": {},
   "outputs": [
    {
     "name": "stdout",
     "output_type": "stream",
     "text": [
      "Há alguns anos, o termo Big Data ganhou popularidade. Acreditava-se que a matemática iria ajudar na tomada de decisões mais racionais, precisas e efetivas. No livro Algoritmos de Destruição em Massa, Cathy O’Neil argumenta o contrário: o Big Data aumentou a desigualdade e ameaça a democracia. PhD em matemática pela Universidade de Harvard, O’Neil chegou à conclusão sobre os problemas de guiar a vida por algoritmos após desenvolver modelos matemáticos para agências de publicidade, fundos de investimentos e empresas de software de risco. No livro, cujo título em inglês traz o excelente trocadilho Weapons of Math Destruction, a autora dedica capítulos específicos para demonstrar por meio de casos reais como os algoritmos trazem problemas para questões como sistema eleitoral, combate ao crime, concessão de crédito, seleção de empregados e admissão de alunos em universidades.\n"
     ]
    }
   ],
   "source": [
    "# Setando texto inicial\n",
    "texto = \"Há alguns anos, o termo Big Data ganhou popularidade. Acreditava-se que a matemática iria ajudar na tomada de decisões mais racionais, precisas e efetivas. No livro Algoritmos de Destruição em Massa, Cathy O’Neil argumenta o contrário: o Big Data aumentou a desigualdade e ameaça a democracia. PhD em matemática pela Universidade de Harvard, O’Neil chegou à conclusão sobre os problemas de guiar a vida por algoritmos após desenvolver modelos matemáticos para agências de publicidade, fundos de investimentos e empresas de software de risco. No livro, cujo título em inglês traz o excelente trocadilho Weapons of Math Destruction, a autora dedica capítulos específicos para demonstrar por meio de casos reais como os algoritmos trazem problemas para questões como sistema eleitoral, combate ao crime, concessão de crédito, seleção de empregados e admissão de alunos em universidades.\"\n",
    "print(texto)"
   ]
  },
  {
   "cell_type": "markdown",
   "id": "b3cd34b7",
   "metadata": {},
   "source": [
    "***\n",
    "\n",
    "### Tokens\n",
    "\n",
    "O NLTK nos possibilita *tokenizar* por sentenças e por palavras."
   ]
  },
  {
   "cell_type": "code",
   "execution_count": 3,
   "id": "4f950870",
   "metadata": {},
   "outputs": [
    {
     "name": "stdout",
     "output_type": "stream",
     "text": [
      "Há alguns anos, o termo Big Data ganhou popularidade. \n",
      "\n",
      "Acreditava-se que a matemática iria ajudar na tomada de decisões mais racionais, precisas e efetivas. \n",
      "\n",
      "No livro Algoritmos de Destruição em Massa, Cathy O’Neil argumenta o contrário: o Big Data aumentou a desigualdade e ameaça a democracia. \n",
      "\n",
      "PhD em matemática pela Universidade de Harvard, O’Neil chegou à conclusão sobre os problemas de guiar a vida por algoritmos após desenvolver modelos matemáticos para agências de publicidade, fundos de investimentos e empresas de software de risco. \n",
      "\n",
      "No livro, cujo título em inglês traz o excelente trocadilho Weapons of Math Destruction, a autora dedica capítulos específicos para demonstrar por meio de casos reais como os algoritmos trazem problemas para questões como sistema eleitoral, combate ao crime, concessão de crédito, seleção de empregados e admissão de alunos em universidades. \n",
      "\n"
     ]
    }
   ],
   "source": [
    "# Tokenizacao por sentencas\n",
    "sentencas = sent_tokenize(texto, language='portuguese')\n",
    "for sentenca in sentencas:\n",
    "    print(sentenca, f'\\n')"
   ]
  },
  {
   "cell_type": "code",
   "execution_count": 4,
   "id": "328af586",
   "metadata": {},
   "outputs": [
    {
     "name": "stdout",
     "output_type": "stream",
     "text": [
      "['Há', 'alguns', 'anos', ',', 'o', 'termo', 'Big', 'Data', 'ganhou', 'popularidade', '.', 'Acreditava-se', 'que', 'a', 'matemática', 'iria', 'ajudar', 'na', 'tomada', 'de', 'decisões', 'mais', 'racionais', ',', 'precisas'] ...\n"
     ]
    }
   ],
   "source": [
    "# Tokenizacao por palavras\n",
    "palavras = word_tokenize(texto, language='portuguese')\n",
    "print(palavras[0:25], '...')"
   ]
  },
  {
   "cell_type": "markdown",
   "id": "fbffc9d2",
   "metadata": {},
   "source": [
    "***\n",
    "\n",
    "### Stop-Words"
   ]
  },
  {
   "cell_type": "code",
   "execution_count": 5,
   "id": "f08d3b4e",
   "metadata": {},
   "outputs": [
    {
     "name": "stdout",
     "output_type": "stream",
     "text": [
      "['a', 'à', 'ao', 'aos', 'aquela', 'aquelas', 'aquele', 'aqueles', 'aquilo', 'as', 'às', 'até', 'com', 'como', 'da', 'das', 'de', 'dela', 'delas', 'dele', 'deles', 'depois', 'do', 'dos', 'e', 'é', 'ela', 'elas', 'ele', 'eles', 'em', 'entre', 'era', 'eram', 'éramos', 'essa', 'essas', 'esse', 'esses', 'esta', 'está', 'estamos', 'estão', 'estar', 'estas', 'estava', 'estavam', 'estávamos', 'este', 'esteja', 'estejam', 'estejamos', 'estes', 'esteve', 'estive', 'estivemos', 'estiver', 'estivera', 'estiveram', 'estivéramos', 'estiverem', 'estivermos', 'estivesse', 'estivessem', 'estivéssemos', 'estou', 'eu', 'foi', 'fomos', 'for', 'fora', 'foram', 'fôramos', 'forem', 'formos', 'fosse', 'fossem', 'fôssemos', 'fui', 'há', 'haja', 'hajam', 'hajamos', 'hão', 'havemos', 'haver', 'hei', 'houve', 'houvemos', 'houver', 'houvera', 'houverá', 'houveram', 'houvéramos', 'houverão', 'houverei', 'houverem', 'houveremos', 'houveria', 'houveriam', 'houveríamos', 'houvermos', 'houvesse', 'houvessem', 'houvéssemos', 'isso', 'isto', 'já', 'lhe', 'lhes', 'mais', 'mas', 'me', 'mesmo', 'meu', 'meus', 'minha', 'minhas', 'muito', 'na', 'não', 'nas', 'nem', 'no', 'nos', 'nós', 'nossa', 'nossas', 'nosso', 'nossos', 'num', 'numa', 'o', 'os', 'ou', 'para', 'pela', 'pelas', 'pelo', 'pelos', 'por', 'qual', 'quando', 'que', 'quem', 'são', 'se', 'seja', 'sejam', 'sejamos', 'sem', 'ser', 'será', 'serão', 'serei', 'seremos', 'seria', 'seriam', 'seríamos', 'seu', 'seus', 'só', 'somos', 'sou', 'sua', 'suas', 'também', 'te', 'tem', 'tém', 'temos', 'tenha', 'tenham', 'tenhamos', 'tenho', 'terá', 'terão', 'terei', 'teremos', 'teria', 'teriam', 'teríamos', 'teu', 'teus', 'teve', 'tinha', 'tinham', 'tínhamos', 'tive', 'tivemos', 'tiver', 'tivera', 'tiveram', 'tivéramos', 'tiverem', 'tivermos', 'tivesse', 'tivessem', 'tivéssemos', 'tu', 'tua', 'tuas', 'um', 'uma', 'você', 'vocês', 'vos']\n"
     ]
    }
   ],
   "source": [
    "# Stop-words do NLTK (em portugues)\n",
    "stops = stopwords.words('portuguese')\n",
    "print(stops)"
   ]
  },
  {
   "cell_type": "code",
   "execution_count": 6,
   "id": "b3e1ee2f",
   "metadata": {},
   "outputs": [
    {
     "name": "stdout",
     "output_type": "stream",
     "text": [
      "NLKT em portugues conta com 207 stopwords.\n"
     ]
    }
   ],
   "source": [
    "# Contagem\n",
    "print('NLKT em portugues conta com',len(stops),'stopwords.')"
   ]
  },
  {
   "cell_type": "code",
   "execution_count": 7,
   "id": "8fdde67c",
   "metadata": {},
   "outputs": [
    {
     "name": "stdout",
     "output_type": "stream",
     "text": [
      "Há alguns anos, o termo Big Data ganhou popularidade. Acreditava-se que a matemática iria ajudar na tomada de decisões mais racionais, precisas e efetivas. No livro Algoritmos de Destruição em Massa, Cathy O’Neil argumenta o contrário: o Big Data aumentou a desigualdade e ameaça a democracia. PhD em matemática pela Universidade de Harvard, O’Neil chegou à conclusão sobre os problemas de guiar a vida por algoritmos após desenvolver modelos matemáticos para agências de publicidade, fundos de investimentos e empresas de software de risco. No livro, cujo título em inglês traz o excelente trocadilho Weapons of Math Destruction, a autora dedica capítulos específicos para demonstrar por meio de casos reais como os algoritmos trazem problemas para questões como sistema eleitoral, combate ao crime, concessão de crédito, seleção de empregados e admissão de alunos em universidades. \n",
      "\n",
      "['Há', 'alguns', 'anos', ',', 'termo', 'Big', 'Data', 'ganhou', 'popularidade', '.', 'Acreditava-se', 'matemática', 'iria', 'ajudar', 'tomada', 'decisões', 'racionais', ',', 'precisas', 'efetivas', '.', 'No', 'livro', 'Algoritmos', 'Destruição', 'Massa', ',', 'Cathy', 'O', '’', 'Neil', 'argumenta', 'contrário', ':', 'Big', 'Data', 'aumentou', 'desigualdade', 'ameaça', 'democracia', '.', 'PhD', 'matemática', 'Universidade', 'Harvard', ',', 'O', '’', 'Neil', 'chegou', 'conclusão', 'sobre', 'problemas', 'guiar', 'vida', 'algoritmos', 'após', 'desenvolver', 'modelos', 'matemáticos', 'agências', 'publicidade', ',', 'fundos', 'investimentos', 'empresas', 'software', 'risco', '.', 'No', 'livro', ',', 'cujo', 'título', 'inglês', 'traz', 'excelente', 'trocadilho', 'Weapons', 'of', 'Math', 'Destruction', ',', 'autora', 'dedica', 'capítulos', 'específicos', 'demonstrar', 'meio', 'casos', 'reais', 'algoritmos', 'trazem', 'problemas', 'questões', 'sistema', 'eleitoral', ',', 'combate', 'crime', ',', 'concessão', 'crédito', ',', 'seleção', 'empregados', 'admissão', 'alunos', 'universidades', '.']\n"
     ]
    }
   ],
   "source": [
    "# Texto sem SW\n",
    "palavras_sem_stops = [w for w in palavras if w not in stops]\n",
    "print(texto, f'\\n')\n",
    "print(palavras_sem_stops)"
   ]
  },
  {
   "cell_type": "markdown",
   "id": "337118fa",
   "metadata": {},
   "source": [
    "***\n",
    "\n",
    "### Pontuação\n",
    "\n",
    "Utilizando a biblioteca *string*."
   ]
  },
  {
   "cell_type": "code",
   "execution_count": 8,
   "id": "ef49593a",
   "metadata": {},
   "outputs": [
    {
     "name": "stdout",
     "output_type": "stream",
     "text": [
      "!\"#$%&'()*+,-./:;<=>?@[\\]^_`{|}~\n"
     ]
    }
   ],
   "source": [
    "print(string.punctuation)"
   ]
  },
  {
   "cell_type": "code",
   "execution_count": 9,
   "id": "dd3541f0",
   "metadata": {},
   "outputs": [
    {
     "name": "stdout",
     "output_type": "stream",
     "text": [
      "Há alguns anos, o termo Big Data ganhou popularidade. Acreditava-se que a matemática iria ajudar na tomada de decisões mais racionais, precisas e efetivas. No livro Algoritmos de Destruição em Massa, Cathy O’Neil argumenta o contrário: o Big Data aumentou a desigualdade e ameaça a democracia. PhD em matemática pela Universidade de Harvard, O’Neil chegou à conclusão sobre os problemas de guiar a vida por algoritmos após desenvolver modelos matemáticos para agências de publicidade, fundos de investimentos e empresas de software de risco. No livro, cujo título em inglês traz o excelente trocadilho Weapons of Math Destruction, a autora dedica capítulos específicos para demonstrar por meio de casos reais como os algoritmos trazem problemas para questões como sistema eleitoral, combate ao crime, concessão de crédito, seleção de empregados e admissão de alunos em universidades. \n",
      "\n",
      "['Há', 'alguns', 'anos', 'termo', 'Big', 'Data', 'ganhou', 'popularidade', 'Acreditava-se', 'matemática', 'iria', 'ajudar', 'tomada', 'decisões', 'racionais', 'precisas', 'efetivas', 'No', 'livro', 'Algoritmos', 'Destruição', 'Massa', 'Cathy', 'O', '’', 'Neil', 'argumenta', 'contrário', 'Big', 'Data', 'aumentou', 'desigualdade', 'ameaça', 'democracia', 'PhD', 'matemática', 'Universidade', 'Harvard', 'O', '’', 'Neil', 'chegou', 'conclusão', 'sobre', 'problemas', 'guiar', 'vida', 'algoritmos', 'após', 'desenvolver', 'modelos', 'matemáticos', 'agências', 'publicidade', 'fundos', 'investimentos', 'empresas', 'software', 'risco', 'No', 'livro', 'cujo', 'título', 'inglês', 'traz', 'excelente', 'trocadilho', 'Weapons', 'of', 'Math', 'Destruction', 'autora', 'dedica', 'capítulos', 'específicos', 'demonstrar', 'meio', 'casos', 'reais', 'algoritmos', 'trazem', 'problemas', 'questões', 'sistema', 'eleitoral', 'combate', 'crime', 'concessão', 'crédito', 'seleção', 'empregados', 'admissão', 'alunos', 'universidades']\n"
     ]
    }
   ],
   "source": [
    "# Removendo, alem das stops a pontuacao\n",
    "palavras_sem_stops_e_pont = [w for w in palavras_sem_stops if w not in string.punctuation]\n",
    "print(texto, f'\\n')\n",
    "print(palavras_sem_stops_e_pont)"
   ]
  },
  {
   "cell_type": "code",
   "execution_count": 10,
   "id": "2c3aaada",
   "metadata": {},
   "outputs": [
    {
     "name": "stdout",
     "output_type": "stream",
     "text": [
      "Número de palavras no texto original: 154\n",
      "Número de palavras no texto processado: 94\n"
     ]
    }
   ],
   "source": [
    "print(f'Número de palavras no texto original: {len(palavras)}\\nNúmero de palavras no texto processado: {len(palavras_sem_stops_e_pont)}')"
   ]
  },
  {
   "cell_type": "code",
   "execution_count": 11,
   "id": "8ed30457",
   "metadata": {},
   "outputs": [
    {
     "data": {
      "text/plain": [
       "110"
      ]
     },
     "execution_count": 11,
     "metadata": {},
     "output_type": "execute_result"
    }
   ],
   "source": [
    "len(palavras_sem_stops)"
   ]
  },
  {
   "cell_type": "markdown",
   "id": "485539dc",
   "metadata": {},
   "source": [
    "***\n",
    "\n",
    "### Métricas NLTK"
   ]
  },
  {
   "cell_type": "code",
   "execution_count": 12,
   "id": "df7da9a2",
   "metadata": {},
   "outputs": [],
   "source": [
    "# criando variavel para frequencia\n",
    "freq = nltk.FreqDist(palavras_sem_stops_e_pont)"
   ]
  },
  {
   "cell_type": "code",
   "execution_count": 13,
   "id": "a35e5a16",
   "metadata": {},
   "outputs": [
    {
     "data": {
      "text/plain": [
       "[('Big', 2),\n",
       " ('Data', 2),\n",
       " ('matemática', 2),\n",
       " ('No', 2),\n",
       " ('livro', 2),\n",
       " ('O', 2),\n",
       " ('’', 2),\n",
       " ('Neil', 2),\n",
       " ('problemas', 2),\n",
       " ('algoritmos', 2)]"
      ]
     },
     "execution_count": 13,
     "metadata": {},
     "output_type": "execute_result"
    }
   ],
   "source": [
    "freq.most_common(10)"
   ]
  },
  {
   "cell_type": "code",
   "execution_count": 14,
   "id": "2d689bf0",
   "metadata": {},
   "outputs": [
    {
     "data": {
      "text/plain": [
       "O             2\n",
       "Neil          2\n",
       "’             2\n",
       "Big           2\n",
       "Data          2\n",
       "algoritmos    2\n",
       "matemática    2\n",
       "problemas     2\n",
       "livro         2\n",
       "No            2\n",
       "Name: count, dtype: int64"
      ]
     },
     "execution_count": 14,
     "metadata": {},
     "output_type": "execute_result"
    }
   ],
   "source": [
    "# Pandas\n",
    "pd.Series(palavras_sem_stops_e_pont).value_counts().head(10)"
   ]
  },
  {
   "cell_type": "markdown",
   "id": "17d9b499",
   "metadata": {},
   "source": [
    "***\n",
    "\n",
    "### Stemming\n",
    "\n",
    "O stemming ainda é muito comumente utilizado em projetos de NLP, apesar de haver a possibilidade do lemmatizer.\n",
    "\n",
    "- Porter: Mais comum e antigo\n",
    "\n",
    "- Snowball: Melhorado em relação ao Porter.\n",
    "\n",
    "- Lancaster: Mais agressivo com resultados não intuitivos."
   ]
  },
  {
   "cell_type": "code",
   "execution_count": 15,
   "id": "aac5d652",
   "metadata": {},
   "outputs": [],
   "source": [
    "# instanciando objetos\n",
    "stemmer = PorterStemmer()\n",
    "\n",
    "stem1 = [stemmer.stem(palavra) for palavra in palavras_sem_stops_e_pont]"
   ]
  },
  {
   "cell_type": "code",
   "execution_count": 16,
   "id": "6208a7d8",
   "metadata": {},
   "outputs": [
    {
     "name": "stdout",
     "output_type": "stream",
     "text": [
      "['Há', 'alguns', 'anos', 'termo', 'Big', 'Data', 'ganhou', 'popularidade', 'Acreditava-se', 'matemática', 'iria', 'ajudar', 'tomada', 'decisões', 'racionais']\n",
      "['há', 'algun', 'ano', 'termo', 'big', 'data', 'ganhou', 'popularidad', 'acreditava-s', 'matemática', 'iria', 'ajudar', 'tomada', 'decisõ', 'racionai']\n"
     ]
    }
   ],
   "source": [
    "print(palavras_sem_stops_e_pont[0:15])\n",
    "print(stem1[0:15])"
   ]
  },
  {
   "cell_type": "markdown",
   "id": "46f37ea1",
   "metadata": {},
   "source": [
    "A maior parte dos processos se resumem à trazer para o singular, fazer algumas reduções e tornar as palavras minúsculas."
   ]
  },
  {
   "cell_type": "code",
   "execution_count": 17,
   "id": "907375e6",
   "metadata": {},
   "outputs": [],
   "source": [
    "# instanciando objetos\n",
    "stemmer = SnowballStemmer(language='portuguese')\n",
    "\n",
    "stem2 = [stemmer.stem(palavra) for palavra in palavras_sem_stops_e_pont]"
   ]
  },
  {
   "cell_type": "code",
   "execution_count": 18,
   "id": "5c2992e0",
   "metadata": {},
   "outputs": [
    {
     "name": "stdout",
     "output_type": "stream",
     "text": [
      "['Há', 'alguns', 'anos', 'termo', 'Big', 'Data', 'ganhou', 'popularidade', 'Acreditava-se', 'matemática', 'iria', 'ajudar', 'tomada', 'decisões', 'racionais']\n",
      "['há', 'alguns', 'anos', 'term', 'big', 'dat', 'ganh', 'popular', 'acreditava-s', 'matemát', 'iri', 'ajud', 'tom', 'decisõ', 'racion']\n"
     ]
    }
   ],
   "source": [
    "print(palavras_sem_stops_e_pont[0:15])\n",
    "print(stem2[0:15])"
   ]
  },
  {
   "cell_type": "markdown",
   "id": "7d42cd91",
   "metadata": {},
   "source": [
    "Com o Snowball as palavras novamente são tornadas minusculas, com a retirada, em muitos casos, das últimas letras."
   ]
  },
  {
   "cell_type": "code",
   "execution_count": 19,
   "id": "50ab0384",
   "metadata": {},
   "outputs": [],
   "source": [
    "# instanciando objetos\n",
    "stemmer = LancasterStemmer()\n",
    "\n",
    "stem3 = [stemmer.stem(palavra) for palavra in palavras_sem_stops_e_pont]"
   ]
  },
  {
   "cell_type": "code",
   "execution_count": 20,
   "id": "56d3ba4e",
   "metadata": {},
   "outputs": [
    {
     "name": "stdout",
     "output_type": "stream",
     "text": [
      "['Há', 'alguns', 'anos', 'termo', 'Big', 'Data', 'ganhou', 'popularidade', 'Acreditava-se', 'matemática', 'iria', 'ajudar', 'tomada', 'decisões', 'racionais']\n",
      "['há', 'algun', 'ano', 'termo', 'big', 'dat', 'ganhou', 'popularidad', 'acreditava-se', 'matemátic', 'ir', 'ajud', 'tomad', 'decisõ', 'raciona']\n"
     ]
    }
   ],
   "source": [
    "print(palavras_sem_stops_e_pont[0:15])\n",
    "print(stem3[0:15])"
   ]
  },
  {
   "cell_type": "markdown",
   "id": "b0e6c63f",
   "metadata": {},
   "source": [
    "***\n",
    "\n",
    "### Pós-Tagging\n",
    "\n",
    "Abaixo temos todas as siglas (das tags) utilizadas para classificar as palavras.\n",
    "\n",
    "(*Momentaneamente não suporta o portugues*)"
   ]
  },
  {
   "cell_type": "code",
   "execution_count": 36,
   "id": "d7a89514",
   "metadata": {},
   "outputs": [
    {
     "name": "stdout",
     "output_type": "stream",
     "text": [
      "$: dollar\n",
      "    $ -$ --$ A$ C$ HK$ M$ NZ$ S$ U.S.$ US$\n",
      "'': closing quotation mark\n",
      "    ' ''\n",
      "(: opening parenthesis\n",
      "    ( [ {\n",
      "): closing parenthesis\n",
      "    ) ] }\n",
      ",: comma\n",
      "    ,\n",
      "--: dash\n",
      "    --\n",
      ".: sentence terminator\n",
      "    . ! ?\n",
      ":: colon or ellipsis\n",
      "    : ; ...\n",
      "CC: conjunction, coordinating\n",
      "    & 'n and both but either et for less minus neither nor or plus so\n",
      "    therefore times v. versus vs. whether yet\n",
      "CD: numeral, cardinal\n",
      "    mid-1890 nine-thirty forty-two one-tenth ten million 0.5 one forty-\n",
      "    seven 1987 twenty '79 zero two 78-degrees eighty-four IX '60s .025\n",
      "    fifteen 271,124 dozen quintillion DM2,000 ...\n",
      "DT: determiner\n",
      "    all an another any both del each either every half la many much nary\n",
      "    neither no some such that the them these this those\n",
      "EX: existential there\n",
      "    there\n",
      "FW: foreign word\n",
      "    gemeinschaft hund ich jeux habeas Haementeria Herr K'ang-si vous\n",
      "    lutihaw alai je jour objets salutaris fille quibusdam pas trop Monte\n",
      "    terram fiche oui corporis ...\n",
      "IN: preposition or conjunction, subordinating\n",
      "    astride among uppon whether out inside pro despite on by throughout\n",
      "    below within for towards near behind atop around if like until below\n",
      "    next into if beside ...\n",
      "JJ: adjective or numeral, ordinal\n",
      "    third ill-mannered pre-war regrettable oiled calamitous first separable\n",
      "    ectoplasmic battery-powered participatory fourth still-to-be-named\n",
      "    multilingual multi-disciplinary ...\n",
      "JJR: adjective, comparative\n",
      "    bleaker braver breezier briefer brighter brisker broader bumper busier\n",
      "    calmer cheaper choosier cleaner clearer closer colder commoner costlier\n",
      "    cozier creamier crunchier cuter ...\n",
      "JJS: adjective, superlative\n",
      "    calmest cheapest choicest classiest cleanest clearest closest commonest\n",
      "    corniest costliest crassest creepiest crudest cutest darkest deadliest\n",
      "    dearest deepest densest dinkiest ...\n",
      "LS: list item marker\n",
      "    A A. B B. C C. D E F First G H I J K One SP-44001 SP-44002 SP-44005\n",
      "    SP-44007 Second Third Three Two * a b c d first five four one six three\n",
      "    two\n",
      "MD: modal auxiliary\n",
      "    can cannot could couldn't dare may might must need ought shall should\n",
      "    shouldn't will would\n",
      "NN: noun, common, singular or mass\n",
      "    common-carrier cabbage knuckle-duster Casino afghan shed thermostat\n",
      "    investment slide humour falloff slick wind hyena override subhumanity\n",
      "    machinist ...\n",
      "NNP: noun, proper, singular\n",
      "    Motown Venneboerger Czestochwa Ranzer Conchita Trumplane Christos\n",
      "    Oceanside Escobar Kreisler Sawyer Cougar Yvette Ervin ODI Darryl CTCA\n",
      "    Shannon A.K.C. Meltex Liverpool ...\n",
      "NNPS: noun, proper, plural\n",
      "    Americans Americas Amharas Amityvilles Amusements Anarcho-Syndicalists\n",
      "    Andalusians Andes Andruses Angels Animals Anthony Antilles Antiques\n",
      "    Apache Apaches Apocrypha ...\n",
      "NNS: noun, common, plural\n",
      "    undergraduates scotches bric-a-brac products bodyguards facets coasts\n",
      "    divestitures storehouses designs clubs fragrances averages\n",
      "    subjectivists apprehensions muses factory-jobs ...\n",
      "PDT: pre-determiner\n",
      "    all both half many quite such sure this\n",
      "POS: genitive marker\n",
      "    ' 's\n",
      "PRP: pronoun, personal\n",
      "    hers herself him himself hisself it itself me myself one oneself ours\n",
      "    ourselves ownself self she thee theirs them themselves they thou thy us\n",
      "PRP$: pronoun, possessive\n",
      "    her his mine my our ours their thy your\n",
      "RB: adverb\n",
      "    occasionally unabatingly maddeningly adventurously professedly\n",
      "    stirringly prominently technologically magisterially predominately\n",
      "    swiftly fiscally pitilessly ...\n",
      "RBR: adverb, comparative\n",
      "    further gloomier grander graver greater grimmer harder harsher\n",
      "    healthier heavier higher however larger later leaner lengthier less-\n",
      "    perfectly lesser lonelier longer louder lower more ...\n",
      "RBS: adverb, superlative\n",
      "    best biggest bluntest earliest farthest first furthest hardest\n",
      "    heartiest highest largest least less most nearest second tightest worst\n",
      "RP: particle\n",
      "    aboard about across along apart around aside at away back before behind\n",
      "    by crop down ever fast for forth from go high i.e. in into just later\n",
      "    low more off on open out over per pie raising start teeth that through\n",
      "    under unto up up-pp upon whole with you\n",
      "SYM: symbol\n",
      "    % & ' '' ''. ) ). * + ,. < = > @ A[fj] U.S U.S.S.R * ** ***\n",
      "TO: \"to\" as preposition or infinitive marker\n",
      "    to\n",
      "UH: interjection\n",
      "    Goodbye Goody Gosh Wow Jeepers Jee-sus Hubba Hey Kee-reist Oops amen\n",
      "    huh howdy uh dammit whammo shucks heck anyways whodunnit honey golly\n",
      "    man baby diddle hush sonuvabitch ...\n",
      "VB: verb, base form\n",
      "    ask assemble assess assign assume atone attention avoid bake balkanize\n",
      "    bank begin behold believe bend benefit bevel beware bless boil bomb\n",
      "    boost brace break bring broil brush build ...\n",
      "VBD: verb, past tense\n",
      "    dipped pleaded swiped regummed soaked tidied convened halted registered\n",
      "    cushioned exacted snubbed strode aimed adopted belied figgered\n",
      "    speculated wore appreciated contemplated ...\n",
      "VBG: verb, present participle or gerund\n",
      "    telegraphing stirring focusing angering judging stalling lactating\n",
      "    hankerin' alleging veering capping approaching traveling besieging\n",
      "    encrypting interrupting erasing wincing ...\n",
      "VBN: verb, past participle\n",
      "    multihulled dilapidated aerosolized chaired languished panelized used\n",
      "    experimented flourished imitated reunifed factored condensed sheared\n",
      "    unsettled primed dubbed desired ...\n",
      "VBP: verb, present tense, not 3rd person singular\n",
      "    predominate wrap resort sue twist spill cure lengthen brush terminate\n",
      "    appear tend stray glisten obtain comprise detest tease attract\n",
      "    emphasize mold postpone sever return wag ...\n",
      "VBZ: verb, present tense, 3rd person singular\n",
      "    bases reconstructs marks mixes displeases seals carps weaves snatches\n",
      "    slumps stretches authorizes smolders pictures emerges stockpiles\n",
      "    seduces fizzes uses bolsters slaps speaks pleads ...\n",
      "WDT: WH-determiner\n",
      "    that what whatever which whichever\n",
      "WP: WH-pronoun\n",
      "    that what whatever whatsoever which who whom whosoever\n",
      "WP$: WH-pronoun, possessive\n",
      "    whose\n",
      "WRB: Wh-adverb\n",
      "    how however whence whenever where whereby whereever wherein whereof why\n",
      "``: opening quotation mark\n",
      "    ` ``\n"
     ]
    }
   ],
   "source": [
    "# Lista\n",
    "nltk.help.upenn_tagset()"
   ]
  },
  {
   "cell_type": "code",
   "execution_count": 37,
   "id": "485edcb9",
   "metadata": {},
   "outputs": [],
   "source": [
    "# Retirada de pontuacao e sw do novo texto\n",
    "text = \"Weapons of Math Destruction by Cathy O'Neil exposes the ways in which flawed mathematical models are increasingly used to evaluate people, as well as promote inequality and other harmful outcomes. It reveals the destructive consequences of relying solely on algorithms for critical decisions.\"\n",
    "words = word_tokenize(text)\n",
    "text_without_stops = [w for w in words if w not in stops]\n",
    "text_without_stops_and_punct = [w for w in text_without_stops if w not in string.punctuation]"
   ]
  },
  {
   "cell_type": "code",
   "execution_count": 38,
   "id": "af03e054",
   "metadata": {},
   "outputs": [
    {
     "name": "stdout",
     "output_type": "stream",
     "text": [
      "[('Weapons', 'NNS'), ('of', 'IN'), ('Math', 'NNP'), ('Destruction', 'NNP'), ('by', 'IN'), ('Cathy', 'NNP'), (\"O'Neil\", 'NNP'), ('exposes', 'VBZ'), ('the', 'DT'), ('ways', 'NNS'), ('in', 'IN'), ('which', 'WDT'), ('flawed', 'VBD'), ('mathematical', 'JJ'), ('models', 'NNS'), ('are', 'VBP'), ('increasingly', 'RB'), ('used', 'VBN'), ('to', 'TO'), ('evaluate', 'VB'), ('people', 'NNS'), ('well', 'RB'), ('promote', 'VBP'), ('inequality', 'NN'), ('and', 'CC'), ('other', 'JJ'), ('harmful', 'JJ'), ('outcomes', 'NNS'), ('It', 'PRP'), ('reveals', 'VBZ'), ('the', 'DT'), ('destructive', 'JJ'), ('consequences', 'NNS'), ('of', 'IN'), ('relying', 'VBG'), ('solely', 'RB'), ('on', 'IN'), ('algorithms', 'JJ'), ('critical', 'JJ'), ('decisions', 'NNS')]\n"
     ]
    }
   ],
   "source": [
    "# Pos Tagging\n",
    "post = nltk.pos_tag(text_without_stops_and_punct)\n",
    "print(post)"
   ]
  },
  {
   "cell_type": "markdown",
   "id": "3891840e",
   "metadata": {},
   "source": [
    "***\n",
    "\n",
    "### Lemmatização\n",
    "\n"
   ]
  },
  {
   "cell_type": "code",
   "execution_count": 41,
   "id": "b6cda67a",
   "metadata": {},
   "outputs": [],
   "source": [
    "lemmatizer = WordNetLemmatizer()\n",
    "resultado = [lemmatizer.lemmatize(palavra) for palavra in palavras_sem_stops_e_pont]"
   ]
  },
  {
   "cell_type": "code",
   "execution_count": 58,
   "id": "ade42dc3",
   "metadata": {},
   "outputs": [
    {
     "name": "stdout",
     "output_type": "stream",
     "text": [
      "anos ano\n"
     ]
    }
   ],
   "source": [
    "# palavras diferents\n",
    "for i in range(0,len(palavras_sem_stops_e_pont)):\n",
    "    if palavras_sem_stops_e_pont[i] != resultado[i]:\n",
    "        print(palavras_sem_stops_e_pont[i], resultado[i])"
   ]
  },
  {
   "cell_type": "markdown",
   "id": "9e56dc05",
   "metadata": {},
   "source": [
    "Apenas uma palavra foi, de fato, alterada."
   ]
  }
 ],
 "metadata": {
  "kernelspec": {
   "display_name": "Projeto NLP",
   "language": "python",
   "name": "nlp"
  },
  "language_info": {
   "codemirror_mode": {
    "name": "ipython",
    "version": 3
   },
   "file_extension": ".py",
   "mimetype": "text/x-python",
   "name": "python",
   "nbconvert_exporter": "python",
   "pygments_lexer": "ipython3",
   "version": "3.12.5"
  }
 },
 "nbformat": 4,
 "nbformat_minor": 5
}
