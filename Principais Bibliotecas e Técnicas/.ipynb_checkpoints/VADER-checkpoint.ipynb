{
 "cells": [
  {
   "cell_type": "markdown",
   "id": "e6be02f5-8005-41f3-9f5a-6ea831c940f8",
   "metadata": {},
   "source": [
    "# VADER (Valence Aware Dictionary and sEntiment Reasoner)\n",
    "\n",
    "***"
   ]
  },
  {
   "cell_type": "markdown",
   "id": "b8726aae-d0ba-4e5d-b40f-1c8e3feb404c",
   "metadata": {},
   "source": [
    "### Funcionamento do VADER\n",
    "\n",
    "A abordagem utilizada, conhecida como VADER, baseia-se em um conjunto de técnicas que utilizam um dicionário predefinido de palavras e regras para atribuir polaridade de sentimentos (positivos, negativos ou neutros) ao texto. Como os textos analisados não possuem rótulos, não há necessidade de um modelo treinado ou de uma comparação direta com dados rotulados.\n",
    "\n",
    "A biblioteca VADER aplica essas regras diretamente ao texto, permitindo uma análise rápida e eficiente, sem a necessidade de aprendizado a partir de grandes volumes de dados, como é comum em modelos de Machine Learning. Essa característica torna o VADER particularmente útil para a análise de sentimentos em textos curtos e informais, como postagens em redes sociais, onde a linguagem pode ser mais variada e expressiva.\n",
    "\n",
    "Além disso, pode ser interessante usar o VADER como uma etapa inicial para classificar os textos. Posteriormente, um modelo de Machine Learning pode ser aplicado para comparar os resultados e avaliar o desempenho, o que pode ser feito de diversas maneiras, dependendo do objetivo da análise.\n",
    "\n",
    "As duas principais funcionalidades utilizadas serão o *polarity score* e o *textblob*:\n",
    "\n",
    "#### Polarity Score\n",
    "\n",
    "Nessa funcionalidade, uma sentença é recebida e o retorno é um dicionário contendo as classificações de **Negativo**, **Neutro** e **Positivo** para o texto, além de um valor **Compound**, que varia entre -1 (muito negativo) e 1 (muito positivo) e representa o sentimento geral da sentença.\n",
    "\n",
    "#### Textblob\n",
    "\n",
    "Retorna dois índices polares, similares ao Compound do **Polarity Score**, variando entre -1 (muito negativo) e 1 (muito positivo). Além disso, há o **Subjectivity**, que indica o grau de subjetividade ou objetividade da sentença. Quanto mais próximo de 1, mais subjetiva é a sentença; quanto mais próximo de 0, mais objetiva.\n",
    "\n",
    "***"
   ]
  },
  {
   "cell_type": "markdown",
   "id": "893171ca-a4e0-44ba-ae6d-7ac8f19a1a2e",
   "metadata": {},
   "source": [
    "### Importação dos dados"
   ]
  },
  {
   "cell_type": "code",
   "execution_count": 1,
   "id": "774c2f50-e053-4ca5-a3c7-84b9cd43ae0f",
   "metadata": {},
   "outputs": [
    {
     "name": "stderr",
     "output_type": "stream",
     "text": [
      "[nltk_data] Downloading package vader_lexicon to\n",
      "[nltk_data]     C:\\Users\\andrr\\AppData\\Roaming\\nltk_data...\n",
      "[nltk_data]   Package vader_lexicon is already up-to-date!\n"
     ]
    },
    {
     "data": {
      "text/plain": [
       "True"
      ]
     },
     "execution_count": 1,
     "metadata": {},
     "output_type": "execute_result"
    }
   ],
   "source": [
    "import nltk\n",
    "from nltk.sentiment.vader import SentimentIntensityAnalyzer\n",
    "from textblob import TextBlob\n",
    "\n",
    "nltk.download(\"vader_lexicon\")"
   ]
  },
  {
   "cell_type": "code",
   "execution_count": 2,
   "id": "ae76de6b-f718-45e5-8c80-e92224e672b0",
   "metadata": {},
   "outputs": [],
   "source": [
    "# Instanciando analyzer\n",
    "analyzer = SentimentIntensityAnalyzer()"
   ]
  },
  {
   "cell_type": "markdown",
   "id": "2d7cfc3c-e1e4-4a59-9cdf-5bdd237261ac",
   "metadata": {},
   "source": [
    "### Polarity Score"
   ]
  },
  {
   "cell_type": "markdown",
   "id": "cddc9c1d-a134-4b9c-86af-3e8b21fe397e",
   "metadata": {},
   "source": [
    "#### Frases Negativas"
   ]
  },
  {
   "cell_type": "code",
   "execution_count": 3,
   "id": "60b3d8c6-1f4a-40d4-a2c2-df95efca65d7",
   "metadata": {},
   "outputs": [],
   "source": [
    "# Criando sentenças puramente negativas\n",
    "neg1 = 'I HATE this movie.'\n",
    "neg2 = 'I hate this movie.'\n",
    "neg3 = 'I really hate this movie.'\n",
    "neg4 = 'I really HATE this movie.'"
   ]
  },
  {
   "cell_type": "code",
   "execution_count": 4,
   "id": "ba6cbfc5-521d-425c-b2b5-69ffbf44d18f",
   "metadata": {},
   "outputs": [
    {
     "name": "stdout",
     "output_type": "stream",
     "text": [
      "Frase 1: {'neg': 0.689, 'neu': 0.311, 'pos': 0.0, 'compound': -0.6633}\n",
      "Frase 2: {'neg': 0.649, 'neu': 0.351, 'pos': 0.0, 'compound': -0.5719}\n",
      "Frase 3: {'neg': 0.571, 'neu': 0.429, 'pos': 0.0, 'compound': -0.6115}\n",
      "Frase 4: {'neg': 0.612, 'neu': 0.388, 'pos': 0.0, 'compound': -0.6933}\n"
     ]
    }
   ],
   "source": [
    "# Analisando os retornos\n",
    "print(f'Frase 1: {analyzer.polarity_scores(neg1)}')\n",
    "print(f'Frase 2: {analyzer.polarity_scores(neg2)}')\n",
    "print(f'Frase 3: {analyzer.polarity_scores(neg3)}')\n",
    "print(f'Frase 4: {analyzer.polarity_scores(neg4)}')"
   ]
  },
  {
   "cell_type": "markdown",
   "id": "9ac2baa4-0aec-4b3b-ab2a-5db83628c4a4",
   "metadata": {},
   "source": [
    "Os exemplos fornecidos ilustram como o VADER analisa o sentimento em frases com variações sutis: \n",
    "\n",
    "A sentença \"*I HATE this movie*\" apresenta a maior proporção negativa (68,9%) e um valor compound de **-0.6633**, devido ao uso da palavra \"ODEIO\" em letras maiúsculas, que confere mais potencialidade ao sentimento. \n",
    "\n",
    "Na frase \"*I hate this movie*\", a intensidade do sentimento negativo diminui ligeiramente, resultando em uma proporção de 64,9% e um valor compound de **-0.5719**. \n",
    "\n",
    "A terceira sentença: \"*I really hate this movie*\" incorpora o modificador \"*really*\", que suaviza a força da palavra \"hate\", levando a uma proporção negativa de 57,1% e um compound de **-0.6115**.\n",
    "\n",
    "Por fim, a última sentença contém o \"realmente ODEIO\" e possui a nota mais negativa, com **-0.6933**. \n"
   ]
  },
  {
   "cell_type": "markdown",
   "id": "500a9a7a-2db2-4f03-b980-44ceadc03a6b",
   "metadata": {},
   "source": [
    "\n",
    "#### Frases Neutras"
   ]
  },
  {
   "cell_type": "code",
   "execution_count": 5,
   "id": "02f52d14-d45e-48c1-8f51-b9426bc157a9",
   "metadata": {},
   "outputs": [],
   "source": [
    "# Criando sentenças negativas neutra\n",
    "neu1 = 'The movie`s plot is old.'\n",
    "neu2 = 'The movie`s plot is very old.'\n",
    "neu3 = 'I have seen this plot before.'"
   ]
  },
  {
   "cell_type": "code",
   "execution_count": 6,
   "id": "74dc47e1-0053-46b0-9fc9-721cdb9ea768",
   "metadata": {},
   "outputs": [
    {
     "name": "stdout",
     "output_type": "stream",
     "text": [
      "Frase 1: {'neg': 0.0, 'neu': 1.0, 'pos': 0.0, 'compound': 0.0}\n",
      "Frase 2: {'neg': 0.0, 'neu': 1.0, 'pos': 0.0, 'compound': 0.0}\n",
      "Frase 3: {'neg': 0.0, 'neu': 1.0, 'pos': 0.0, 'compound': 0.0}\n"
     ]
    }
   ],
   "source": [
    "# Analisando os retornos\n",
    "print(f'Frase 1: {analyzer.polarity_scores(neu1)}')\n",
    "print(f'Frase 2: {analyzer.polarity_scores(neu2)}')\n",
    "print(f'Frase 3: {analyzer.polarity_scores(neu3)}')"
   ]
  },
  {
   "cell_type": "markdown",
   "id": "c4308878-bd07-4212-abf8-75b0fbe28070",
   "metadata": {},
   "source": [
    "Os exemplos mostram como o VADER classifica frases neutras. Na frase \"The movie's plot is old,\" o resultado é {'neg': 0.0, 'neu': 1.0, 'pos': 0.0, 'compound': 0.0}, indicando que não há polaridade emocional. O mesmo acontece com \"The movie's plot is very old,\" onde, apesar do modificador \"very,\" a frase continua neutra. Na terceira frase, \"I have seen this plot before,\" o resultado é idêntico, reforçando que todas as frases analisadas são avaliadas como neutras, sem carga emocional."
   ]
  },
  {
   "cell_type": "markdown",
   "id": "3915723b-8af3-4b73-bdbd-45d36d04c70e",
   "metadata": {},
   "source": [
    "#### Emojis"
   ]
  },
  {
   "cell_type": "code",
   "execution_count": 7,
   "id": "48f85866-1f78-47aa-a439-12e48f3695a6",
   "metadata": {},
   "outputs": [],
   "source": [
    "# Criando emojis\n",
    "emj1 = ':)'\n",
    "emj2 = '=D'\n",
    "emj3 = ':/'\n",
    "emj4 = ':|'"
   ]
  },
  {
   "cell_type": "code",
   "execution_count": 8,
   "id": "1a7577c8-92bd-4145-a86b-feaa8c68bd51",
   "metadata": {},
   "outputs": [
    {
     "name": "stdout",
     "output_type": "stream",
     "text": [
      "Frase 1: {'neg': 0.0, 'neu': 0.0, 'pos': 1.0, 'compound': 0.4588}\n",
      "Frase 2: {'neg': 0.0, 'neu': 0.0, 'pos': 1.0, 'compound': 0.5106}\n",
      "Frase 3: {'neg': 1.0, 'neu': 0.0, 'pos': 0.0, 'compound': -0.34}\n",
      "Frase 4: {'neg': 1.0, 'neu': 0.0, 'pos': 0.0, 'compound': -0.1027}\n"
     ]
    }
   ],
   "source": [
    "# Analisando os retornos\n",
    "print(f'Frase 1: {analyzer.polarity_scores(emj1)}')\n",
    "print(f'Frase 2: {analyzer.polarity_scores(emj2)}')\n",
    "print(f'Frase 3: {analyzer.polarity_scores(emj3)}')\n",
    "print(f'Frase 4: {analyzer.polarity_scores(emj4)}')"
   ]
  },
  {
   "cell_type": "markdown",
   "id": "f4343e47-9d6d-432c-a690-54b61fe62bc0",
   "metadata": {},
   "source": [
    "Os resultados da análise de emojis pelo VADER revelam como expressões não verbais são interpretadas.\n",
    "\n",
    "O emoji :) apresenta uma pontuação totalmente positiva, com 100% de positividade e um valor compound de **0.4535**.\n",
    "\n",
    "O emoji =D, que indica risada, também é classificado como positivo, com 100% de positividade e um compound de **0.7031**.\n",
    "\n",
    "Já o emoji :/ expressa tristeza, resultando em 100% de negatividade compound levemente negativo de **-0.0506**.\n",
    "\n",
    "Por fim, o emoji :|, que sugere certa indiferença, é interpretado como totalmente negativo - porém, com uma baixa intensidade -, resultando em um valor compound de **-0.1027**, indicando um sentimento levemente negativo"
   ]
  },
  {
   "cell_type": "markdown",
   "id": "36a85a2a-106e-4426-b843-8ce05d7a923c",
   "metadata": {},
   "source": [
    "### TextBlob"
   ]
  },
  {
   "cell_type": "code",
   "execution_count": 9,
   "id": "70a0eb4a-e4c9-45e6-9cbd-036882233be3",
   "metadata": {},
   "outputs": [],
   "source": [
    "# Instanciando os objetos TextBlob\n",
    "txtb1 = TextBlob(neg1)\n",
    "txtb2 = TextBlob(neg2)\n",
    "txtb3 = TextBlob(neg3)\n",
    "txtb4 = TextBlob(neg4)"
   ]
  },
  {
   "cell_type": "code",
   "execution_count": 10,
   "id": "e53b87c5-e4a8-4023-b3a2-5a206c1c7130",
   "metadata": {},
   "outputs": [
    {
     "name": "stdout",
     "output_type": "stream",
     "text": [
      "Frase 1: Sentiment(polarity=-0.8, subjectivity=0.9)\n",
      "Frase 2: Sentiment(polarity=-0.8, subjectivity=0.9)\n",
      "Frase 3: Sentiment(polarity=-0.8, subjectivity=0.9)\n",
      "Frase 4: Sentiment(polarity=-0.8, subjectivity=0.9)\n"
     ]
    }
   ],
   "source": [
    "# Analisando os retornos\n",
    "print(f'Frase 1: {txtb1.sentiment}')\n",
    "print(f'Frase 2: {txtb2.sentiment}')\n",
    "print(f'Frase 3: {txtb3.sentiment}')\n",
    "print(f'Frase 4: {txtb4.sentiment}')"
   ]
  },
  {
   "cell_type": "markdown",
   "id": "5561b2ca-8bbb-4b7f-ad1d-7b6dc2963514",
   "metadata": {},
   "source": [
    "Ao experimentar as mesmas frases negativas pelo TextBlob, observamos uma mesma polaridade e subjetividade em cada uma delas."
   ]
  },
  {
   "cell_type": "code",
   "execution_count": 11,
   "id": "20f24b02-9673-495c-9e78-6aacab6b2bde",
   "metadata": {},
   "outputs": [
    {
     "name": "stdout",
     "output_type": "stream",
     "text": [
      "Frase 5: Sentiment(polarity=-0.7250000000000001, subjectivity=0.95)\n"
     ]
    }
   ],
   "source": [
    "# Nova frase\n",
    "txtb5 = TextBlob('I hate this movie. It`s very sad.')\n",
    "print(f'Frase 5: {txtb5.sentiment}')"
   ]
  },
  {
   "cell_type": "markdown",
   "id": "1d6184c0-a0bb-4f68-992d-e328a35dff09",
   "metadata": {},
   "source": [
    "Em contraste, a nova frase \"I hate this movie. It’s very sad.\" resultou em uma polaridade de -0.725 e subjetividade de 0.95. \n",
    "\n",
    "De forma que, embora a frase ainda expresse um sentimento negativo, a adição da expressão \"It’s very sad\" diminui a intensidade da negatividade em relação às sentenças anteriores."
   ]
  }
 ],
 "metadata": {
  "kernelspec": {
   "display_name": "Projeto NLP",
   "language": "python",
   "name": "nlp"
  },
  "language_info": {
   "codemirror_mode": {
    "name": "ipython",
    "version": 3
   },
   "file_extension": ".py",
   "mimetype": "text/x-python",
   "name": "python",
   "nbconvert_exporter": "python",
   "pygments_lexer": "ipython3",
   "version": "3.12.5"
  }
 },
 "nbformat": 4,
 "nbformat_minor": 5
}
